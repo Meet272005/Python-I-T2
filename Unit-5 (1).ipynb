{
 "cells": [
  {
   "cell_type": "markdown",
   "metadata": {},
   "source": [
    "# Unit-5️⃣ Mutable data structure"
   ]
  },
  {
   "cell_type": "markdown",
   "metadata": {},
   "source": [
    "### list"
   ]
  },
  {
   "cell_type": "markdown",
   "metadata": {},
   "source": [
    "* List is dynamic because based on our requirement we can increase or decrease the size\n",
    "* square brackets with comma separation"
   ]
  },
  {
   "cell_type": "markdown",
   "metadata": {},
   "source": [
    "### Creation of list"
   ]
  },
  {
   "cell_type": "markdown",
   "metadata": {},
   "source": [
    "* l=[]\n",
    "* l=[1,2,3,4]\n",
    "* l=eval(input(\"Enter list: \"))"
   ]
  },
  {
   "cell_type": "code",
   "execution_count": 5,
   "metadata": {},
   "outputs": [
    {
     "name": "stdout",
     "output_type": "stream",
     "text": [
      "Enter list: 1,2,3,4,5\n",
      "(1, 2, 3, 4, 5)\n",
      "Enter tuple: [1,2,3,4,5]\n",
      "[1, 2, 3, 4, 5]\n",
      "Enter set: {1,2,3,4,5}\n",
      "{1, 2, 3, 4, 5}\n"
     ]
    }
   ],
   "source": [
    "l=eval(input(\"Enter list: \"))\n",
    "print(l)\n",
    "\n",
    "l=eval(input(\"Enter tuple: \"))\n",
    "print(l)\n",
    "\n",
    "l=eval(input(\"Enter set: \"))\n",
    "print(l)"
   ]
  },
  {
   "cell_type": "markdown",
   "metadata": {},
   "source": [
    "<h2><u> Important function of List.</u></h2>"
   ]
  },
  {
   "cell_type": "markdown",
   "metadata": {},
   "source": [
    "<h3>1. len()"
   ]
  },
  {
   "cell_type": "code",
   "execution_count": 6,
   "metadata": {},
   "outputs": [
    {
     "name": "stdout",
     "output_type": "stream",
     "text": [
      "4\n"
     ]
    }
   ],
   "source": [
    "n=[1,2,3,4]\n",
    "print(len(n))"
   ]
  },
  {
   "cell_type": "markdown",
   "metadata": {},
   "source": [
    "<h3>2. count()"
   ]
  },
  {
   "cell_type": "markdown",
   "metadata": {},
   "source": [
    "n=[1,2,2,3,3,3]\n",
    "print(n.count(2))\n",
    "print(n.count(4))"
   ]
  },
  {
   "cell_type": "markdown",
   "metadata": {},
   "source": [
    "<h3>3. index()"
   ]
  },
  {
   "cell_type": "code",
   "execution_count": 10,
   "metadata": {},
   "outputs": [
    {
     "name": "stdout",
     "output_type": "stream",
     "text": [
      "0\n",
      "3\n"
     ]
    }
   ],
   "source": [
    "n=[1,2,2,3,3,3]\n",
    "print(n.index(1))\n",
    "print(n.index(3))\n",
    "# print(n.index(5)) ValueError: 5 is not in list"
   ]
  },
  {
   "cell_type": "markdown",
   "metadata": {},
   "source": [
    "<h3>4. append()"
   ]
  },
  {
   "cell_type": "code",
   "execution_count": 13,
   "metadata": {},
   "outputs": [
    {
     "name": "stdout",
     "output_type": "stream",
     "text": [
      "['M', 'N', 'A', 'B', 'C']\n"
     ]
    }
   ],
   "source": [
    "l=[\"M\",\"N\"]\n",
    "l.append(\"A\")\n",
    "l.append(\"B\")\n",
    "l.append(\"C\")\n",
    "print(l)"
   ]
  },
  {
   "cell_type": "markdown",
   "metadata": {},
   "source": [
    "<h3>5. insert()"
   ]
  },
  {
   "cell_type": "code",
   "execution_count": 26,
   "metadata": {},
   "outputs": [
    {
     "name": "stdout",
     "output_type": "stream",
     "text": [
      "[1, 28, 2, 3, 4, 5, 25, 5]\n",
      "['A', 'M', 'N', 'C', 'B']\n"
     ]
    }
   ],
   "source": [
    "l=[1,2,3,4,5]\n",
    "l.insert(1,28)\n",
    "l.insert(10,5) # value >len(l) then it will work as append\n",
    "l.insert(-1,25) #-1 will append at second last index\n",
    "print(l)\n",
    "\n",
    "l=[\"M\",\"N\"]\n",
    "l.insert(0,\"A\")\n",
    "l.insert(15,\"B\")\n",
    "l.insert(-1,\"C\") #-1 will append at second last index\n",
    "print(l)"
   ]
  },
  {
   "cell_type": "markdown",
   "metadata": {},
   "source": [
    "<h3>6. extend()"
   ]
  },
  {
   "cell_type": "code",
   "execution_count": 29,
   "metadata": {},
   "outputs": [
    {
     "name": "stdout",
     "output_type": "stream",
     "text": [
      "['Apple', 'Mango', 'Orange', 'watermelon']\n",
      "['Orange', 'watermelon', 'Apple', 'Mango', 'Orange', 'watermelon']\n"
     ]
    }
   ],
   "source": [
    "l1=[\"Apple\",\"Mango\"]\n",
    "l2=[\"Orange\",\"watermelon\"]\n",
    "\n",
    "l1.extend(l2)\n",
    "l2.extend(l1)\n",
    "print(l1)\n",
    "print(l2)"
   ]
  },
  {
   "cell_type": "markdown",
   "metadata": {},
   "source": [
    "<h3>7. remove()"
   ]
  },
  {
   "cell_type": "code",
   "execution_count": 32,
   "metadata": {},
   "outputs": [
    {
     "name": "stdout",
     "output_type": "stream",
     "text": [
      "[2, 1, 3, 1, 1]\n"
     ]
    }
   ],
   "source": [
    "n=[1,2,1,3,1,1]\n",
    "n.remove(1)\n",
    "print(n)\n",
    "\n",
    "# n.remove(4)\n",
    "# print(n) ValueError: list.remove(x): x not in list"
   ]
  },
  {
   "cell_type": "markdown",
   "metadata": {},
   "source": [
    "<h3>8. pop()"
   ]
  },
  {
   "cell_type": "code",
   "execution_count": 6,
   "metadata": {},
   "outputs": [
    {
     "name": "stdout",
     "output_type": "stream",
     "text": [
      "50\n",
      "40\n",
      "[10, 20, 30]\n",
      "50\n",
      "20\n",
      "[10, 30, 40]\n"
     ]
    }
   ],
   "source": [
    "n=[10,20,30,40,50]\n",
    "print(n.pop())\n",
    "print(n.pop())\n",
    "print(n)\n",
    "\n",
    "y=[]\n",
    "# print(y.pop())IndexError: pop from empty list\n",
    "\n",
    "n=[10,20,30,40,50]\n",
    "print(n.pop())\n",
    "print(n.pop(1))\n",
    "print(n)\n",
    "# print(n.pop(10)) IndexError: pop index out of range"
   ]
  },
  {
   "cell_type": "markdown",
   "metadata": {},
   "source": [
    "<h3>9. clear()"
   ]
  },
  {
   "cell_type": "code",
   "execution_count": 8,
   "metadata": {},
   "outputs": [
    {
     "name": "stdout",
     "output_type": "stream",
     "text": [
      "[]\n"
     ]
    }
   ],
   "source": [
    "n=[10,20,30,40,50]\n",
    "n.clear()\n",
    "print(n)"
   ]
  },
  {
   "cell_type": "markdown",
   "metadata": {},
   "source": [
    "<h3>10. sort()"
   ]
  },
  {
   "cell_type": "code",
   "execution_count": 17,
   "metadata": {},
   "outputs": [
    {
     "name": "stdout",
     "output_type": "stream",
     "text": [
      "[0, 1, 2, 5, 15]\n",
      "['A', 'B', 'C', 'D']\n"
     ]
    }
   ],
   "source": [
    "n=[2,5,1,15,0]\n",
    "n.sort()\n",
    "print(n)\n",
    "\n",
    "n=[\"D\",\"A\",\"B\",\"C\"]\n",
    "n.sort()\n",
    "print(n)\n",
    "\n",
    "# n=[12,20,50,\"D\",\"A\",\"B\",\"C\"] TypeError: '<' not supported between instances of 'int' and 'str'\n",
    "# n.sort()\n",
    "# print(n)"
   ]
  },
  {
   "cell_type": "markdown",
   "metadata": {},
   "source": [
    "<h3>11. reverse()"
   ]
  },
  {
   "cell_type": "code",
   "execution_count": 13,
   "metadata": {},
   "outputs": [
    {
     "name": "stdout",
     "output_type": "stream",
     "text": [
      "[0, 1, 2, 5, 15]\n",
      "[15, 5, 2, 1, 0]\n",
      "['A', 'B', 'C', 'D']\n",
      "['D', 'C', 'B', 'A']\n"
     ]
    }
   ],
   "source": [
    "n=[2,5,1,15,0]\n",
    "n.sort()\n",
    "print(n)\n",
    "n.sort(reverse=True)\n",
    "print(n)\n",
    "\n",
    "n=[\"D\",\"A\",\"B\",\"C\"]\n",
    "n.sort()\n",
    "print(n)\n",
    "n.sort(reverse=True)\n",
    "print(n)\n",
    "\n",
    "# n=[12,20,50,\"D\",\"A\",\"B\",\"C\"] TypeError: '<' not supported between instances of 'int' and 'str'\n",
    "# n.sort(reverse=True)\n",
    "# print(n)"
   ]
  },
  {
   "cell_type": "markdown",
   "metadata": {},
   "source": [
    "<h2><u> Mathematical Operations for List.</u></h2>"
   ]
  },
  {
   "cell_type": "code",
   "execution_count": 20,
   "metadata": {},
   "outputs": [
    {
     "name": "stdout",
     "output_type": "stream",
     "text": [
      "[1, 2, 3, 4, 5, 6]\n",
      "[1, 2, 3, 4]\n",
      "[1, 2, 3, 1, 2, 3, 1, 2, 3]\n"
     ]
    }
   ],
   "source": [
    "a=[1,2,3]\n",
    "b=[4,5,6]\n",
    "print(a+b)\n",
    "print(a+[4])\n",
    "# print(a+4) TypeError: can only concatenate list (not \"int\") to list\n",
    "print(a*3)"
   ]
  },
  {
   "cell_type": "markdown",
   "metadata": {},
   "source": [
    "<h2><u> Comparison Operators for List.</u></h2>"
   ]
  },
  {
   "cell_type": "code",
   "execution_count": 25,
   "metadata": {},
   "outputs": [
    {
     "name": "stdout",
     "output_type": "stream",
     "text": [
      "True\n",
      "False\n",
      "True \n",
      "\n",
      "False\n",
      "False\n",
      "True\n",
      "True \n",
      "\n",
      "False\n",
      "False\n",
      "True\n",
      "True\n"
     ]
    }
   ],
   "source": [
    "x=[\"Dog\",\"Cat\",\"Rat\"]\n",
    "y=[\"Dog\",\"Cat\",\"Rat\"]\n",
    "z=[\"DOG\",\"CAT\",\"RAT\"]\n",
    "print(x==y)\n",
    "print(x==z)\n",
    "print(x!=z,\"\\n\")\n",
    "\n",
    "x=[\"Dog\",\"Cat\",\"Rat\"]\n",
    "y=[\"Rat\",\"Cat\",\"Dog\"]\n",
    "print(x>y)\n",
    "print(x>=y)\n",
    "print(x<y)\n",
    "print(x<=y,\"\\n\")\n",
    "\n",
    "x=[50,20,30]\n",
    "y=[50,20,30,100,200]\n",
    "print(x>y)\n",
    "print(x>=y)\n",
    "print(x<y)\n",
    "print(x<=y)"
   ]
  },
  {
   "cell_type": "markdown",
   "metadata": {},
   "source": [
    "<h2><u> Membership Operators for List.</u></h2>"
   ]
  },
  {
   "cell_type": "markdown",
   "metadata": {},
   "source": [
    "* in\n",
    "*not in"
   ]
  },
  {
   "cell_type": "code",
   "execution_count": 28,
   "metadata": {},
   "outputs": [
    {
     "name": "stdout",
     "output_type": "stream",
     "text": [
      "True\n",
      "False\n",
      "False\n"
     ]
    }
   ],
   "source": [
    "n=[10,20,30,40]\n",
    "print(10 in n)\n",
    "print(40 not in n)\n",
    "print(50 in n)"
   ]
  },
  {
   "cell_type": "code",
   "execution_count": 34,
   "metadata": {},
   "outputs": [
    {
     "name": "stdout",
     "output_type": "stream",
     "text": [
      "[10, 20, 100, 40, 50]\n",
      "[10, 20, 30, 40, 50]\n"
     ]
    }
   ],
   "source": [
    "l1=[10,20,30,40,50]\n",
    "X=l1\n",
    "X[2]=100\n",
    "print(l)\n",
    "\n",
    "l2=[10,20,30,40,50]\n",
    "Y=l2[:] #or l2.copy()\n",
    "Y[2]=100\n",
    "print(l2)"
   ]
  },
  {
   "cell_type": "markdown",
   "metadata": {},
   "source": [
    "<h2><u> Nested List.</u></h2>"
   ]
  },
  {
   "cell_type": "code",
   "execution_count": 37,
   "metadata": {},
   "outputs": [
    {
     "name": "stdout",
     "output_type": "stream",
     "text": [
      "10\n",
      "[40, 20]\n",
      "40\n",
      "80\n",
      "200\n"
     ]
    }
   ],
   "source": [
    "n=[10,20,30,[40,20],[60,70,80,[100,200]]]\n",
    "print(n[0])\n",
    "print(n[3])\n",
    "print(n[3][0])\n",
    "print(n[4][2])\n",
    "print(n[4][3][1])"
   ]
  },
  {
   "cell_type": "markdown",
   "metadata": {},
   "source": [
    "<h2><u> Nested List as Matrix.</u></h2>"
   ]
  },
  {
   "cell_type": "code",
   "execution_count": 46,
   "metadata": {},
   "outputs": [
    {
     "name": "stdout",
     "output_type": "stream",
     "text": [
      "10 20 30 \n",
      "40 50 60 \n",
      "70 80 90 \n"
     ]
    }
   ],
   "source": [
    "n=[[10,20,30],[40,50,60],[70,80,90]]\n",
    "\n",
    "for i in n:\n",
    "    for j in i:\n",
    "        print(j,end=\" \")\n",
    "    print()"
   ]
  },
  {
   "cell_type": "code",
   "execution_count": 67,
   "metadata": {},
   "outputs": [
    {
     "name": "stdout",
     "output_type": "stream",
     "text": [
      "3X3 Matrix\n",
      "\n",
      "1 4 7 \n",
      "2 5 8 \n",
      "3 6 9 \n",
      "\n",
      "3X4 Matrix\n",
      "\n",
      "1 4 7 10 \n",
      "2 5 8 11 \n",
      "3 6 9 12 \n"
     ]
    }
   ],
   "source": [
    "# Original to Transpose\n",
    "\n",
    "print(\"3X3 Matrix\\n\")    \n",
    "n=[[1,2,3],[4,5,6],[7,8,9]]\n",
    "for i in range(len(n)):\n",
    "    for j in range(len(n[i])):\n",
    "            print(n[j][i],end=\" \")\n",
    "    print()\n",
    "    \n",
    "print(\"\\n3X4 Matrix\\n\")    \n",
    "n=[[1,2,3],[4,5,6],[7,8,9],[10,11,12]]\n",
    "for i in range(len(n[0])):\n",
    "    for j in n:\n",
    "        print(j[i],end=\" \")\n",
    "    print()\n",
    "   "
   ]
  },
  {
   "cell_type": "markdown",
   "metadata": {},
   "source": [
    "<h2><u> List Comphrehension.</u></h2>"
   ]
  },
  {
   "cell_type": "code",
   "execution_count": 60,
   "metadata": {},
   "outputs": [
    {
     "name": "stdout",
     "output_type": "stream",
     "text": [
      "[1, 4, 9, 16, 25, 36, 49, 64, 81, 100]\n",
      "[2, 4, 8, 16, 32]\n",
      "[1, 9, 25, 49, 81]\n"
     ]
    }
   ],
   "source": [
    "# Syntax : l=[Expression for item in list if condition]\n",
    "s=[x*x for x in range(1,11)]\n",
    "print(s)\n",
    "\n",
    "v=[2**x for x in range(1,6)]\n",
    "print(v)\n",
    "\n",
    "m=[x for x in s if x%2==1]\n",
    "print(m)"
   ]
  },
  {
   "cell_type": "markdown",
   "metadata": {},
   "source": [
    "<h2><u>TASK</u></h2>"
   ]
  },
  {
   "cell_type": "markdown",
   "metadata": {},
   "source": [
    "WAP to Print Elements with frequency greater than a given value K. "
   ]
  },
  {
   "cell_type": "code",
   "execution_count": 76,
   "metadata": {},
   "outputs": [
    {
     "name": "stdout",
     "output_type": "stream",
     "text": [
      "Enter List: [1,1,1,1,2,2,2,2,3,3,5,5,5,5,6,7]\n",
      "Enter k: 2\n",
      "[1, 2, 5]\n"
     ]
    }
   ],
   "source": [
    "l=eval(input(\"Enter List: \"))\n",
    "k=int(input(\"Enter k: \"))\n",
    "ans=[]\n",
    "\n",
    "for i in l:\n",
    "    count=l.count(i)\n",
    "    if count>k and i not in ans:\n",
    "        ans.append(i)\n",
    "        \n",
    "print(ans)"
   ]
  },
  {
   "cell_type": "markdown",
   "metadata": {},
   "source": [
    "<h2><u>Dictionary</u></h2>"
   ]
  },
  {
   "cell_type": "markdown",
   "metadata": {},
   "source": [
    "* Represent a group of object as key-value pairs.\n",
    "* Duplicate not allowed but values can be duplicated.\n",
    "* Heterogeneous objects are allowed for both key & value.\n",
    "* Insertion order is not preserved.\n",
    "* Mutable\n",
    "* Index and slicing concepts are not applicable. "
   ]
  },
  {
   "cell_type": "code",
   "execution_count": 100,
   "metadata": {},
   "outputs": [
    {
     "name": "stdout",
     "output_type": "stream",
     "text": [
      "<class 'dict'>\n",
      "<class 'set'>\n",
      "{10: 'Arman', 20: 'Aryan', 30: 'Lucky'}\n",
      "{10: 'Gopu', 20: 'Madhav', 30: 'Lucky'}\n",
      "{10: 'Gopal', 20: 'Madhav', 30: 'Lucky', 40: 'Laxman', 50: 'Vasuli bhai'}\n",
      "{10: 'Gopal', 20: 'Madhav', 30: 'Lucky', 40: 'Laxman'}\n"
     ]
    }
   ],
   "source": [
    "d={}\n",
    "print(type(d))\n",
    "s=set()\n",
    "print(type(s))\n",
    "\n",
    "d[10]=\"Arman\"\n",
    "d[20]=\"Aryan\"\n",
    "d[30]=\"Lucky\"\n",
    "print(d)\n",
    "\n",
    "d2=dict([(10,\"Gopu\"),(20,\"Madhav\"),(30,\"Lucky\")])\n",
    "print(d2)\n",
    "d2[40]=\"Laxman\"\n",
    "d2[10]=\"Gopal\"\n",
    "d2[50]=\"Vasuli bhai\"\n",
    "print(d2)\n",
    "del d2[50]\n",
    "print(d2)\n",
    "d2.clear()\n",
    "# del d2\n",
    "# print(d2)"
   ]
  },
  {
   "cell_type": "markdown",
   "metadata": {},
   "source": [
    "<h2><u>Dictionary Comphrehension. </u></h2>"
   ]
  },
  {
   "cell_type": "code",
   "execution_count": 104,
   "metadata": {},
   "outputs": [
    {
     "name": "stdout",
     "output_type": "stream",
     "text": [
      "{1: 1, 2: 4, 3: 9, 4: 16, 5: 25}\n",
      "{1: 1, 2: 4, 3: 9, 4: 16, 5: 25}\n"
     ]
    }
   ],
   "source": [
    "square={x:x*x for x in range(1,6)}\n",
    "print(square)\n",
    "x=square.copy()\n",
    "print(x)"
   ]
  },
  {
   "cell_type": "markdown",
   "metadata": {},
   "source": [
    "<h2><u> Important function of Dictionary.</u></h2>"
   ]
  },
  {
   "cell_type": "markdown",
   "metadata": {},
   "source": [
    "<ol>\n",
    "    <li> dict() </li>\n",
    "    <li> len() </li>\n",
    "    <li> clear() </li>\n",
    "    <li> copy() </li>\n",
    "    <li> update() </li>\n",
    "    <li> get() </li>\n",
    "    <li> popitem() </li>\n",
    "    <li> keys() </li>\n",
    "    <li> values() </li>\n",
    "    <li> items() </li>\n",
    "    <li> setdefault() </li>\n",
    "    </ol>"
   ]
  },
  {
   "cell_type": "code",
   "execution_count": 107,
   "metadata": {},
   "outputs": [
    {
     "name": "stdout",
     "output_type": "stream",
     "text": [
      "{10: 20, 30: 40, 50: 60}\n",
      "{10: 100, 30: 600, 50: 60, 200: 40}\n"
     ]
    }
   ],
   "source": [
    "# UPDATE\n",
    "\n",
    "d={10:20,30:40,50:60}\n",
    "print(d)\n",
    "x={10:100,200:40,30:600}\n",
    "d.update(x)\n",
    "print(d)"
   ]
  },
  {
   "cell_type": "code",
   "execution_count": 111,
   "metadata": {},
   "outputs": [
    {
     "name": "stdout",
     "output_type": "stream",
     "text": [
      "{10: 'Arman', 20: 'Aryan', 30: 'Lucky'}\n",
      "Arman\n",
      "Arman\n",
      "None\n",
      "Arman\n",
      "Guest\n"
     ]
    }
   ],
   "source": [
    "# GET\n",
    "\n",
    "d={10:\"Arman\",20:\"Aryan\",30:\"Lucky\"}\n",
    "print(d)\n",
    "print(d[10])\n",
    "print(d.get(10))\n",
    "print(d.get(40))\n",
    "print(d.get(10,\"Guest\"))\n",
    "print(d.get(40,\"Guest\"))"
   ]
  },
  {
   "cell_type": "code",
   "execution_count": 115,
   "metadata": {},
   "outputs": [
    {
     "name": "stdout",
     "output_type": "stream",
     "text": [
      "{10: 'Arman', 20: 'Aryan', 30: 'Lucky'}\n",
      "(30, 'Lucky')\n",
      "{10: 'Arman', 20: 'Aryan'}\n"
     ]
    }
   ],
   "source": [
    "# POPITEM\n",
    "\n",
    "d={10:\"Arman\",20:\"Aryan\",30:\"Lucky\"}\n",
    "print(d)\n",
    "print(d.popitem()) #In form of Tupple\n",
    "print(d) #Key Error if d is empty"
   ]
  },
  {
   "cell_type": "code",
   "execution_count": 119,
   "metadata": {},
   "outputs": [
    {
     "name": "stdout",
     "output_type": "stream",
     "text": [
      "dict_keys([10, 20, 30])\n",
      "dict_values(['Arman', 'Aryan', 'Lucky'])\n",
      "dict_items([(10, 'Arman'), (20, 'Aryan'), (30, 'Lucky')])\n",
      "10 --> Arman\n",
      "20 --> Aryan\n",
      "30 --> Lucky\n"
     ]
    }
   ],
   "source": [
    "#  KeYS ,VALUES ,ITEMS\n",
    "\n",
    "d={10:\"Arman\",20:\"Aryan\",30:\"Lucky\"}\n",
    "print(d.keys())\n",
    "print(d.values())\n",
    "print(d.items())\n",
    "\n",
    "for k,v in d.items():\n",
    "    print(k,\"-->\",v)"
   ]
  },
  {
   "cell_type": "code",
   "execution_count": 121,
   "metadata": {},
   "outputs": [
    {
     "name": "stdout",
     "output_type": "stream",
     "text": [
      "Pavan\n",
      "{10: 'Arman', 20: 'Aryan', 30: 'Lucky', 40: 'Pavan'}\n",
      "Arman\n",
      "{10: 'Arman', 20: 'Aryan', 30: 'Lucky', 40: 'Pavan'}\n"
     ]
    }
   ],
   "source": [
    "d={10:\"Arman\",20:\"Aryan\",30:\"Lucky\"}\n",
    "print(d.setdefault(40,\"Pavan\"))\n",
    "print(d)\n",
    "print(d.setdefault(10,\"Sachin\"))\n",
    "print(d)"
   ]
  },
  {
   "cell_type": "code",
   "execution_count": 124,
   "metadata": {},
   "outputs": [
    {
     "name": "stdout",
     "output_type": "stream",
     "text": [
      "{'Dog': 2, 'the': 2, 'quick': 1, 'brown': 1, 'fox': 1, 'jumps': 1, 'over': 1, 'lazy': 1}\n"
     ]
    }
   ],
   "source": [
    "# WAP that reads the words from paragraph and stores them as keys in dictionary and counts the frequency of it as value\n",
    "\n",
    "s=\"Dog the quick brown fox jumps over the lazy Dog\"\n",
    "t=s.split()\n",
    "d={}\n",
    "for i in t:\n",
    "    d[i]=t.count(i)\n",
    "print(d)"
   ]
  },
  {
   "cell_type": "code",
   "execution_count": 1,
   "metadata": {},
   "outputs": [
    {
     "name": "stdout",
     "output_type": "stream",
     "text": [
      "{'D': [\"Dont't\"], 'w': ['wait'], 'f': ['for', 'feelings'], 'y': ['your'], 't': ['to', 'to', 'take'], 'c': ['change'], 'a': ['action.']}\n"
     ]
    }
   ],
   "source": [
    "# WAP to create a dictionary with the key as first character and values as list of words starting with that character.\n",
    "\n",
    "s=\"Dont't wait for your feelings to change to take action.\"\n",
    "words=s.split()\n",
    "# words.sort()\n",
    "d={}\n",
    "# print(t)\n",
    "\n",
    "for word in words:\n",
    "    key=word[0]\n",
    "    if key in d: #here d==d.keys()\n",
    "        d[key].append(word)\n",
    "    else:\n",
    "        d[key]=[word]\n",
    "print(d)"
   ]
  },
  {
   "cell_type": "markdown",
   "metadata": {},
   "source": [
    "<h2><u>Set</u></h2>"
   ]
  },
  {
   "cell_type": "markdown",
   "metadata": {},
   "source": [
    "* Represent a group of unique values as a single entity.\n",
    "* Duplicates are not allowed.\n",
    "* Insertion order is not preserved.\n",
    "* Indexing and slicing not allowed.\n",
    "* Heterogeneous elements allowed.\n",
    "* Mutable.\n",
    "* Curly braces with comma.\n",
    "* Mathematical operations like Union,intersection,difference,etc."
   ]
  },
  {
   "cell_type": "code",
   "execution_count": 43,
   "metadata": {},
   "outputs": [
    {
     "name": "stdout",
     "output_type": "stream",
     "text": [
      "{1, 2, 3, 100, 4, 5, 6}\n",
      "<class 'set'>\n",
      "{1, 4, 7, 8, 10, 20, 22, 24, 25, 26, 28}\n",
      "<class 'set'>\n"
     ]
    }
   ],
   "source": [
    "s={100,1,2,3,3,4,4,4,1,2,5,5,6}\n",
    "print(s)\n",
    "print(type(s))\n",
    "\n",
    "s={20,25,1,4,4,7,8,10,10,22,24,26,28}\n",
    "print(s)\n",
    "print(type(s))"
   ]
  },
  {
   "cell_type": "code",
   "execution_count": 49,
   "metadata": {},
   "outputs": [
    {
     "name": "stdout",
     "output_type": "stream",
     "text": [
      "{1, 2, 3, 4, 5, 6}\n",
      "{'E', 'I', 'J', 'T', 'L'}\n",
      "{1, 2, 3, 4, 5}\n",
      "{40, 10, 20, 30}\n"
     ]
    }
   ],
   "source": [
    "s=set()\n",
    "l=[1,3,6,4,5,2]\n",
    "s=set(l)\n",
    "print(s)\n",
    "\n",
    "X=\"LJIET\"\n",
    "s=set(X)\n",
    "print(s)\n",
    "\n",
    "y=range(1,6)\n",
    "s=set(y)\n",
    "print(s)\n",
    "\n",
    "l=[10,20,30,40,10,20,30]\n",
    "print(set(l))"
   ]
  },
  {
   "cell_type": "markdown",
   "metadata": {},
   "source": [
    "<h2><u> Mathematical Operations for Set.</u></h2>"
   ]
  },
  {
   "cell_type": "code",
   "execution_count": 52,
   "metadata": {},
   "outputs": [
    {
     "name": "stdout",
     "output_type": "stream",
     "text": [
      "{40, 10, 50, 20, 60, 30}\n",
      "{40, 10, 50, 20, 60, 30}\n"
     ]
    }
   ],
   "source": [
    "# 1. UNION\n",
    "\n",
    "X={10,20,30,40}\n",
    "Y={30,40,50,60}\n",
    "print(X.union(Y))\n",
    "print(X|Y)"
   ]
  },
  {
   "cell_type": "code",
   "execution_count": 53,
   "metadata": {},
   "outputs": [
    {
     "name": "stdout",
     "output_type": "stream",
     "text": [
      "{40, 30}\n",
      "{40, 30}\n"
     ]
    }
   ],
   "source": [
    "# 2. INTERSECTION\n",
    "\n",
    "X={10,20,30,40}\n",
    "Y={30,40,50,60}\n",
    "print(X.intersection(Y))\n",
    "print(X&Y)"
   ]
  },
  {
   "cell_type": "code",
   "execution_count": 56,
   "metadata": {},
   "outputs": [
    {
     "name": "stdout",
     "output_type": "stream",
     "text": [
      "{10, 20}\n",
      "{10, 20}\n",
      "{50, 60}\n",
      "{50, 60}\n"
     ]
    }
   ],
   "source": [
    "# 3. DIFFERENCE\n",
    "\n",
    "X={10,20,30,40}\n",
    "Y={30,40,50,60}\n",
    "print(X.difference(Y))\n",
    "print(X-Y)\n",
    "print(Y.difference(X))\n",
    "print(Y-X)"
   ]
  },
  {
   "cell_type": "code",
   "execution_count": 59,
   "metadata": {},
   "outputs": [
    {
     "name": "stdout",
     "output_type": "stream",
     "text": [
      "{10, 50, 20, 60}\n",
      "{10, 50, 20, 60}\n",
      "{10, 50, 20, 60}\n"
     ]
    }
   ],
   "source": [
    "# 4. SYMMETRIC_DIFFERENCE\n",
    "\n",
    "X={10,20,30,40}\n",
    "Y={30,40,50,60}\n",
    "print(X.symmetric_difference(Y))\n",
    "print(X^Y)\n",
    "print(Y.symmetric_difference(X))\n"
   ]
  },
  {
   "cell_type": "code",
   "execution_count": 63,
   "metadata": {},
   "outputs": [
    {
     "name": "stdout",
     "output_type": "stream",
     "text": [
      "True\n",
      "False\n"
     ]
    }
   ],
   "source": [
    "# 5. ISSUBSET()\n",
    "\n",
    "X={\"a\",\"b\",\"c\"}\n",
    "Y={\"F\",\"e\",\"d\",\"c\",\"b\",\"a\"}\n",
    "print(X.issubset(Y))\n",
    "print(Y.issubset(X))"
   ]
  },
  {
   "cell_type": "code",
   "execution_count": 62,
   "metadata": {},
   "outputs": [
    {
     "name": "stdout",
     "output_type": "stream",
     "text": [
      "False\n",
      "True\n"
     ]
    }
   ],
   "source": [
    "# 5. ISSUPERSET()\n",
    "\n",
    "X={\"a\",\"b\",\"c\"}\n",
    "Y={\"F\",\"e\",\"d\",\"c\",\"b\",\"a\"}\n",
    "print(X.issuperset(Y))\n",
    "print(Y.issuperset(X))"
   ]
  },
  {
   "cell_type": "markdown",
   "metadata": {},
   "source": [
    "<h2><u> Membership Operators for Set.</u></h2>"
   ]
  },
  {
   "cell_type": "markdown",
   "metadata": {},
   "source": [
    "<ol>\n",
    "<li>in</li>\n",
    "<li>not in</li>\n",
    "</ol>"
   ]
  },
  {
   "cell_type": "code",
   "execution_count": 64,
   "metadata": {},
   "outputs": [
    {
     "name": "stdout",
     "output_type": "stream",
     "text": [
      "{'E', 'I', 'J', 'T', 'L'}\n",
      "True\n",
      "False\n",
      "False\n"
     ]
    }
   ],
   "source": [
    "s=set(\"LJIET\")\n",
    "print(s)\n",
    "print(\"L\" in s)\n",
    "print(\"T\" not in s)\n",
    "print(\"X\" in s)"
   ]
  },
  {
   "cell_type": "markdown",
   "metadata": {},
   "source": [
    "<h2><u> Important function of Set.</u></h2>"
   ]
  },
  {
   "cell_type": "markdown",
   "metadata": {},
   "source": [
    "<ol>\n",
    "    <li> add() </li>\n",
    "    <li> update() </li>\n",
    "    <li> copy() </li>\n",
    "    <li> pop() </li>\n",
    "    <li> remove() </li>\n",
    "    <li> discard() </li>\n",
    "    <li> clear() </li>\n",
    "       </ol>"
   ]
  },
  {
   "cell_type": "code",
   "execution_count": 66,
   "metadata": {},
   "outputs": [
    {
     "name": "stdout",
     "output_type": "stream",
     "text": [
      "{40, 10, 20, 30}\n"
     ]
    }
   ],
   "source": [
    "# ADD\n",
    "\n",
    "s={10,20,30}\n",
    "s.add(40)\n",
    "print(s)"
   ]
  },
  {
   "cell_type": "code",
   "execution_count": 67,
   "metadata": {},
   "outputs": [
    {
     "name": "stdout",
     "output_type": "stream",
     "text": [
      "{1, 2, 3, 4, 5, 70, 40, 10, 12, 14, 16, 50, 18, 20, 60, 30}\n"
     ]
    }
   ],
   "source": [
    "# UPDATE\n",
    "\n",
    "s={10,20,30}\n",
    "l=[40,50,60,70]\n",
    "s.update(l,range(10,20,2),range(1,6))\n",
    "print(s)"
   ]
  },
  {
   "cell_type": "code",
   "execution_count": 68,
   "metadata": {},
   "outputs": [
    {
     "name": "stdout",
     "output_type": "stream",
     "text": [
      "{40, 10, 20, 30}\n",
      "{70, 40, 10, 20, 30}\n"
     ]
    }
   ],
   "source": [
    "# COPY\n",
    "\n",
    "s={10,20,30,40}\n",
    "x=s.copy()\n",
    "x.add(70)\n",
    "print(s)\n",
    "print(x)"
   ]
  },
  {
   "cell_type": "code",
   "execution_count": 72,
   "metadata": {},
   "outputs": [
    {
     "name": "stdout",
     "output_type": "stream",
     "text": [
      "{40, 10, 50, 20, 30}\n",
      "40\n",
      "{10, 50, 20, 30}\n"
     ]
    }
   ],
   "source": [
    "# POP\n",
    "\n",
    "s={40,30,20,10,50}\n",
    "print(s)\n",
    "print(s.pop())\n",
    "print(s)"
   ]
  },
  {
   "cell_type": "code",
   "execution_count": 75,
   "metadata": {},
   "outputs": [
    {
     "name": "stdout",
     "output_type": "stream",
     "text": [
      "{40, 10, 50, 20}\n",
      "{40, 10, 50, 20}\n"
     ]
    }
   ],
   "source": [
    "#  REMOVE\n",
    "\n",
    "s={10,20,30,40,50}\n",
    "s.remove(30)\n",
    "print(s)\n",
    "# s.remove(60) KeyError: 60"
   ]
  },
  {
   "cell_type": "code",
   "execution_count": 78,
   "metadata": {},
   "outputs": [
    {
     "name": "stdout",
     "output_type": "stream",
     "text": [
      "{40, 10, 50, 20}\n"
     ]
    }
   ],
   "source": [
    "#  DISCARD\n",
    "\n",
    "s={10,20,30,40,50}\n",
    "s.discard(30)\n",
    "print(s)\n",
    "s.discard(60) "
   ]
  },
  {
   "cell_type": "code",
   "execution_count": 79,
   "metadata": {},
   "outputs": [
    {
     "name": "stdout",
     "output_type": "stream",
     "text": [
      "set()\n"
     ]
    }
   ],
   "source": [
    "# CLEAR\n",
    "\n",
    "s={10,20,30,40,50}\n",
    "s.clear()\n",
    "print(s)"
   ]
  },
  {
   "cell_type": "markdown",
   "metadata": {},
   "source": [
    "<h2><u>Set Comphrehension. </u></h2>"
   ]
  },
  {
   "cell_type": "code",
   "execution_count": 81,
   "metadata": {},
   "outputs": [
    {
     "name": "stdout",
     "output_type": "stream",
     "text": [
      "{64, 1, 4, 36, 100, 9, 16, 49, 81, 25}\n",
      "{32, 2, 4, 8, 16}\n"
     ]
    }
   ],
   "source": [
    "s={x*x for x in range(1,11)}\n",
    "print(s)\n",
    "s={2**x for x in range(1,6)}\n",
    "print(s)"
   ]
  },
  {
   "cell_type": "markdown",
   "metadata": {},
   "source": [
    "<h2><u>Frozen set. </u></h2>"
   ]
  },
  {
   "cell_type": "code",
   "execution_count": 94,
   "metadata": {},
   "outputs": [
    {
     "name": "stdout",
     "output_type": "stream",
     "text": [
      "{'Apple', 'Cherry', 'Banana', 'Pineaple'}\n",
      "frozenset({'Apple', 'Cherry', 'Banana'})\n"
     ]
    }
   ],
   "source": [
    "x=[\"Apple\",\"Banana\",\"Cherry\"]\n",
    "s=set(x)\n",
    "s.add(\"Pineaple\")\n",
    "print(s)\n",
    "\n",
    "f=frozenset(x)\n",
    "# f.add(\"Pineaple\") IMMUTABLE\n",
    "print(f)"
   ]
  },
  {
   "cell_type": "code",
   "execution_count": 106,
   "metadata": {},
   "outputs": [
    {
     "name": "stdout",
     "output_type": "stream",
     "text": [
      "Enter x:  [1,2,3,4,6,7,8] \n",
      "Enter y: [1,5,3,6,4,7,3]\n",
      "[1, 3, 4, 6]\n"
     ]
    }
   ],
   "source": [
    "# WAP to find the index at which the elements of two list dose not match.\n",
    "\n",
    "x=eval(input(\"Enter x: \"))\n",
    "y=eval(input(\"Enter y: \"))\n",
    "l=[]\n",
    "\n",
    "if len(x)==len(y):\n",
    "    for i in range(len(x)):\n",
    "        if x[i]!=y[i]:\n",
    "            l.append(i)\n",
    "print(l)"
   ]
  },
  {
   "cell_type": "code",
   "execution_count": 111,
   "metadata": {},
   "outputs": [
    {
     "name": "stdout",
     "output_type": "stream",
     "text": [
      "CampusX is the best channel for Data Science Students\n"
     ]
    }
   ],
   "source": [
    "# WAP to replace words from dictionary given a string replace its words from look up dictionary.\n",
    "s=\"CampusX is best for DS Students\"\n",
    "d={\"best\":\"the best channel\" , \"DS\":\"Data Science\" }\n",
    "l=s.split()\n",
    "\n",
    "for i in l:\n",
    "        if i in d:\n",
    "            s=s.replace(i,d.get(i))\n",
    "print(s)"
   ]
  },
  {
   "cell_type": "markdown",
   "metadata": {},
   "source": [
    "<h2><u>Lambda Function. </u></h2>"
   ]
  },
  {
   "cell_type": "markdown",
   "metadata": {},
   "source": [
    "* Function without any name\n",
    "* nameless function,anonymous function, lambda function\n",
    "\n",
    "<b>Normal Function</b>\n",
    "\n",
    "def square(n):\n",
    "\n",
    "    return n*n\n",
    " \n",
    "print(square(5))\n",
    "<br>\n",
    "<br>\n",
    "<b>Lambda Function</b>\n",
    "\n",
    "s=lambda n:n*n\n",
    "\n",
    "print(s(4))\n"
   ]
  },
  {
   "cell_type": "code",
   "execution_count": 3,
   "metadata": {},
   "outputs": [
    {
     "name": "stdout",
     "output_type": "stream",
     "text": [
      "25\n",
      "16\n"
     ]
    }
   ],
   "source": [
    "def square(n):\n",
    "    return n*n\n",
    "print(square(5))\n",
    "\n",
    "\n",
    "s=lambda n:n*n\n",
    "\n",
    "print(s(4))"
   ]
  },
  {
   "cell_type": "code",
   "execution_count": 4,
   "metadata": {},
   "outputs": [
    {
     "name": "stdout",
     "output_type": "stream",
     "text": [
      "30\n",
      "30\n"
     ]
    }
   ],
   "source": [
    "# lambda function to find sum of two number\n",
    "\n",
    "def Sum(a,b):\n",
    "    return a+b\n",
    "print(Sum(10,20))\n",
    "\n",
    "s=lambda a,b:a+b\n",
    "print(s(10,20))"
   ]
  },
  {
   "cell_type": "markdown",
   "metadata": {},
   "source": [
    "<h3>1.map()</h3>"
   ]
  },
  {
   "cell_type": "markdown",
   "metadata": {},
   "source": [
    "* for every element present in given sequence,apply some functionality and generate new element with required modification.\n",
    "* Synatax: <b>map(function,sequence)</b>\n"
   ]
  },
  {
   "cell_type": "code",
   "execution_count": 28,
   "metadata": {},
   "outputs": [
    {
     "name": "stdout",
     "output_type": "stream",
     "text": [
      "[2, 4, 6, 8, 10]\n",
      "[1, 4, 9, 16, 25]\n",
      "[]\n"
     ]
    }
   ],
   "source": [
    "# Example\n",
    "\n",
    "l=[1,2,3,4,5]\n",
    "def double(x):\n",
    "    return 2*x\n",
    "l1=list(map(double,l))\n",
    "print(l1)\n",
    "\n",
    "l=[1,2,3,4,5]\n",
    "l1=list(map(lambda x:x**2,l))\n",
    "print(l1)\n",
    "\n",
    "l1=[1,2,3]\n",
    "l2=[3,4,5,6]\n",
    "l5=[]\n",
    "l3=list(map(lambda x,y,z:x+y,l1,l2,l5))\n",
    "print(l3)"
   ]
  },
  {
   "cell_type": "markdown",
   "metadata": {},
   "source": [
    "<h3>2.reduce()</h3>"
   ]
  },
  {
   "cell_type": "markdown",
   "metadata": {},
   "source": [
    "* reduces the sequence of elements into a single element by applying the specified function.\n",
    "* Syntax: reduce(function,sequence)\n",
    "* present in module to use the reduce() function.\n",
    "\n",
    "* Note: from functools import * "
   ]
  },
  {
   "cell_type": "code",
   "execution_count": 34,
   "metadata": {},
   "outputs": [
    {
     "name": "stdout",
     "output_type": "stream",
     "text": [
      "55\n",
      "3628800\n"
     ]
    }
   ],
   "source": [
    "from functools import *\n",
    "\n",
    "l1=[1,2,3,4,5,6,7,8,9,10]\n",
    "sum=reduce(lambda x,y:x+y,l1)\n",
    "print(sum)\n",
    "mul=reduce(lambda x,y:x*y,l1)\n",
    "print(mul)"
   ]
  },
  {
   "cell_type": "markdown",
   "metadata": {},
   "source": [
    "<h3>3.filter()</h3>"
   ]
  },
  {
   "cell_type": "markdown",
   "metadata": {},
   "source": [
    "* filter values from given sequence based on same condition.\n",
    "* function argument is responsible to check condition."
   ]
  },
  {
   "cell_type": "code",
   "execution_count": 46,
   "metadata": {},
   "outputs": [
    {
     "name": "stdout",
     "output_type": "stream",
     "text": [
      "[0, 2, 4, 6, 8, 10]\n"
     ]
    }
   ],
   "source": [
    "def isEven(x):\n",
    "    if x%2==0:\n",
    "        return True\n",
    "    else:\n",
    "        return False\n",
    "l=[0,1,2,3,4,5,6,7,8,9,10]\n",
    "l1=list(filter(isEven,l))\n",
    "print(l1)"
   ]
  },
  {
   "cell_type": "code",
   "execution_count": 49,
   "metadata": {},
   "outputs": [
    {
     "name": "stdout",
     "output_type": "stream",
     "text": [
      "['APPLE', 'BANANA', 'CHERY']\n"
     ]
    }
   ],
   "source": [
    "words=[\"apple\",\"banana\",\"chery\"]\n",
    "l=list(map(str.upper,words))\n",
    "print(l)"
   ]
  },
  {
   "cell_type": "code",
   "execution_count": 52,
   "metadata": {},
   "outputs": [
    {
     "name": "stdout",
     "output_type": "stream",
     "text": [
      "['banana', 'cherry', 'orange']\n"
     ]
    }
   ],
   "source": [
    "words=[\"apple\",\"banana\",\"cherry\",\"date\",\"kiwi\",\"orange\"]\n",
    "l1=list(filter(lambda x:len(x)>5,words))\n",
    "print(l1)"
   ]
  },
  {
   "cell_type": "code",
   "execution_count": 57,
   "metadata": {},
   "outputs": [
    {
     "name": "stdout",
     "output_type": "stream",
     "text": [
      "[0, 1, 25, 36, 5]\n",
      "9996\n"
     ]
    }
   ],
   "source": [
    "l1=[10,1,25,36,16]\n",
    "l2=[0,25,63,45,5]\n",
    "min=list(map(lambda x,y:x if x<y else y,l1,l2))\n",
    "# print(min(101*99,102*98))\n",
    "print(min)\n",
    "\n",
    "min=lambda x,y:x if x<y else y\n",
    "print(min(101*99,102*98))"
   ]
  },
  {
   "cell_type": "code",
   "execution_count": 61,
   "metadata": {},
   "outputs": [
    {
     "name": "stdout",
     "output_type": "stream",
     "text": [
      "[19, 38, 13, 26]\n"
     ]
    }
   ],
   "source": [
    "# WAP to find number divisible by 19 or 13 from a list of numbers using lambda func.\n",
    "l=[19,38,13,26,5,6,4,7]\n",
    "l1=list(filter(lambda x:x%19==0 or x%13==0,l))\n",
    "print(l1)"
   ]
  },
  {
   "cell_type": "code",
   "execution_count": 71,
   "metadata": {},
   "outputs": [
    {
     "name": "stdout",
     "output_type": "stream",
     "text": [
      "['kiwi', 'apple', 'cherry', 'Pineapple']\n",
      "['apple', 'Pineapple', 'kiwi', 'cherry']\n",
      "['apple', 'Pineapple', 'kiwi', 'cherry']\n"
     ]
    }
   ],
   "source": [
    "a=[\"apple\",\"kiwi\",\"cherry\",\"Pineapple\"]\n",
    "l2=sorted(a,key=len)\n",
    "print(l2)\n",
    "\n",
    "def fun(word):\n",
    "    return word[-1]\n",
    "l=sorted(a,key=fun)\n",
    "print(l)\n",
    "\n",
    "l1=sorted(a,key=lambda word:word[-1])\n",
    "print(l1)"
   ]
  },
  {
   "cell_type": "code",
   "execution_count": 76,
   "metadata": {},
   "outputs": [
    {
     "name": "stdout",
     "output_type": "stream",
     "text": [
      "[(4, 1), (2, 3), (1, 5), (3, 8)]\n"
     ]
    }
   ],
   "source": [
    "l=[(1,5),(2,3),(3,8),(4,1)]\n",
    "a=sorted(l,key=lambda x: x[1])\n",
    "print(a)\n",
    "\n",
    "# NOTE: \n",
    "# SORT() IS ONLY APPLICABLE TO LIST BUT SORTED IS APPLICABLE TO TUPLE,STR,LIST."
   ]
  },
  {
   "cell_type": "code",
   "execution_count": 83,
   "metadata": {},
   "outputs": [
    {
     "name": "stdout",
     "output_type": "stream",
     "text": [
      "['apple', 'banana#cherry#orange']\n",
      "['apple', 'banana', 'cherry#orange']\n",
      "['apple', 'banana', 'cherry', 'orange']\n"
     ]
    }
   ],
   "source": [
    "t=\"apple#banana#cherry#orange\"\n",
    "x=t.split(\"#\",1) \n",
    "print(x)\n",
    "y=t.split(\"#\",2)\n",
    "print(y)\n",
    "z=t.split(\"#\",3)\n",
    "print(z)"
   ]
  },
  {
   "cell_type": "code",
   "execution_count": 117,
   "metadata": {},
   "outputs": [
    {
     "name": "stdout",
     "output_type": "stream",
     "text": [
      "index to be removed:  1\n",
      "list after rremoval of index 1  is : [2, 6, 4]\n"
     ]
    }
   ],
   "source": [
    "# Given list l of size n ,you need to count the numbers of special elements in the list and\n",
    "# element is special removal of that element make the list balanced the list will be balanced \n",
    "# if sum of even index element is equal to sum of te odd index element.\n",
    "# Also print the list after removal of special element\n",
    "\n",
    "# l1=[5,5,2,5,8]\n",
    "l1=[2,1,6,4]\n",
    "for i in range(0,len(l1)):\n",
    "    check=l1.copy()\n",
    "    check.pop(i)\n",
    "    oddsum=0\n",
    "    evensum=0\n",
    "    for j in range(0,len(check)):\n",
    "        if j%2==0:\n",
    "            evensum=evensum+check[j]\n",
    "        else:\n",
    "            oddsum=oddsum+check[j]\n",
    "    if evensum==oddsum:\n",
    "        print(\"index to be removed: \",i)\n",
    "        print(\"list after removal of index\",i,\" is :\",check)\n",
    "        break"
   ]
  },
  {
   "cell_type": "code",
   "execution_count": null,
   "metadata": {},
   "outputs": [],
   "source": []
  }
 ],
 "metadata": {
  "kernelspec": {
   "display_name": "Python 3",
   "language": "python",
   "name": "python3"
  },
  "language_info": {
   "codemirror_mode": {
    "name": "ipython",
    "version": 3
   },
   "file_extension": ".py",
   "mimetype": "text/x-python",
   "name": "python",
   "nbconvert_exporter": "python",
   "pygments_lexer": "ipython3",
   "version": "3.8.5"
  }
 },
 "nbformat": 4,
 "nbformat_minor": 4
}
