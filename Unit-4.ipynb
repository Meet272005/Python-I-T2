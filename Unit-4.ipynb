{
 "cells": [
  {
   "cell_type": "markdown",
   "metadata": {},
   "source": [
    "# Unit-4️⃣ Immutable data Structure"
   ]
  },
  {
   "cell_type": "markdown",
   "metadata": {},
   "source": [
    "<h2><u> Accessing characters of String.</u></h2>"
   ]
  },
  {
   "cell_type": "markdown",
   "metadata": {},
   "source": [
    "<ol>\n",
    "    <li> By Using index.</li>\n",
    "    <li> By slicing Operator.</li>\n",
    "</ol>"
   ]
  },
  {
   "cell_type": "code",
   "execution_count": 3,
   "metadata": {},
   "outputs": [
    {
     "name": "stdout",
     "output_type": "stream",
     "text": [
      "U\n",
      "y\n",
      "r\n"
     ]
    }
   ],
   "source": [
    "#By using index\n",
    "\n",
    "a=\"LJ University\"\n",
    "print(a[3])\n",
    "print(a[-1])\n",
    "print(a[-5])\n",
    "# print(a[20]) index Out of range"
   ]
  },
  {
   "cell_type": "code",
   "execution_count": 24,
   "metadata": {},
   "outputs": [
    {
     "name": "stdout",
     "output_type": "stream",
     "text": [
      "earnin\n",
      "eri\n",
      "gninra\n",
      "earnin\n",
      "Learnin\n",
      "Python is very easy.\n",
      "Python is very easy.\n",
      "Learning Python is very easy.\n",
      "Learning Python is very easy.\n",
      ".ysae yrev si nohtyP gninraeL\n",
      "\n",
      ".ys\n"
     ]
    }
   ],
   "source": [
    "# By slicing Operator.\n",
    "\n",
    "# Syntax: s[begin index: end index : step]\n",
    "\n",
    "s=\"Learning Python is very easy.\"\n",
    "print(s[1:7:1])\n",
    "print(s[1:7:2])\n",
    "print(s[7:1:-1])\n",
    "print(s[1:7])\n",
    "print(s[:7])\n",
    "print(s[9:])\n",
    "print(s[9:100])\n",
    "print(s[:])\n",
    "print(s[::])\n",
    "print(s[::-1]) #Reverse String\n",
    "print(s[-1:-4])\n",
    "print(s[-1:-4:-1])"
   ]
  },
  {
   "cell_type": "markdown",
   "metadata": {},
   "source": [
    "<h2><u> Mathematical operators for String.</u></h2>"
   ]
  },
  {
   "cell_type": "markdown",
   "metadata": {},
   "source": [
    "<p>\n",
    "+  --> Concatenation\n",
    "    <br>\n",
    "*  --> Repitation or string multiplication\n",
    "    </p>"
   ]
  },
  {
   "cell_type": "code",
   "execution_count": 26,
   "metadata": {},
   "outputs": [
    {
     "name": "stdout",
     "output_type": "stream",
     "text": [
      "Arman Dhairya\n",
      "lucky lucky lucky \n"
     ]
    }
   ],
   "source": [
    "print(\"Arman \"+\"Dhairya\")\n",
    "print(\"lucky \"*3)"
   ]
  },
  {
   "cell_type": "markdown",
   "metadata": {},
   "source": [
    "<h2><u> Comparison of String.</u></h2>"
   ]
  },
  {
   "cell_type": "code",
   "execution_count": 33,
   "metadata": {},
   "outputs": [
    {
     "name": "stdout",
     "output_type": "stream",
     "text": [
      "Enter First String: ABC\n",
      "Enter Second String: ABc\n",
      "Second String is Greater\n"
     ]
    }
   ],
   "source": [
    "s1=input(\"Enter First String: \")\n",
    "s2=input(\"Enter Second String: \")\n",
    "if s1==s2:\n",
    "    print(\"Both String are same\")\n",
    "elif s1<s2:\n",
    "    print(\"Second String is Greater\")\n",
    "else:\n",
    "    print(\"First string is Greater\")"
   ]
  },
  {
   "cell_type": "markdown",
   "metadata": {},
   "source": [
    "<h2><u> Joining of String.</u></h2>"
   ]
  },
  {
   "cell_type": "markdown",
   "metadata": {},
   "source": [
    "* Syntax: s=separator.join(group of String)"
   ]
  },
  {
   "cell_type": "code",
   "execution_count": 44,
   "metadata": {},
   "outputs": [
    {
     "name": "stdout",
     "output_type": "stream",
     "text": [
      "Apple-Banana-Cherry\n",
      "AppleBananaCherry\n"
     ]
    }
   ],
   "source": [
    "t=(\"Apple\",\"Banana\",\"Cherry\")\n",
    "s1=\"-\".join(t)\n",
    "s2=\"\".join(t)\n",
    "print(s1)\n",
    "print(s2)"
   ]
  },
  {
   "cell_type": "markdown",
   "metadata": {},
   "source": [
    "<h2><u> Formatting of String.</u></h2>"
   ]
  },
  {
   "cell_type": "code",
   "execution_count": 47,
   "metadata": {},
   "outputs": [
    {
     "name": "stdout",
     "output_type": "stream",
     "text": [
      "Arman's salary is 50000 and age is 25\n",
      "Arman's salary is 50000 and age is 25\n"
     ]
    }
   ],
   "source": [
    "name=\"Arman\"\n",
    "salary=50000\n",
    "age=25\n",
    "\n",
    "print(\"{}'s salary is {} and age is {}\".format(name,salary,age))\n",
    "print(\"{1}'s salary is {0} and age is {2}\".format(salary,name,age))"
   ]
  },
  {
   "cell_type": "markdown",
   "metadata": {},
   "source": [
    "<h2><u> Important function of String.</u></h2>"
   ]
  },
  {
   "cell_type": "markdown",
   "metadata": {},
   "source": [
    "<h3>1. calculate length of string"
   ]
  },
  {
   "cell_type": "code",
   "execution_count": 48,
   "metadata": {},
   "outputs": [
    {
     "name": "stdout",
     "output_type": "stream",
     "text": [
      "5\n"
     ]
    }
   ],
   "source": [
    "a=\"LJIET\"\n",
    "print(len(a))"
   ]
  },
  {
   "cell_type": "markdown",
   "metadata": {},
   "source": [
    "<h3>2. Removing spces from string\n"
   ]
  },
  {
   "cell_type": "code",
   "execution_count": 56,
   "metadata": {},
   "outputs": [
    {
     "name": "stdout",
     "output_type": "stream",
     "text": [
      "banana   is a fruit\n",
      "banana is a fruit\n",
      "8\n",
      "6\n",
      "banana  \n",
      "banan\n",
      "b\n",
      "Band\n"
     ]
    }
   ],
   "source": [
    "#   1. rstrip()\n",
    "#     Removes from right end.\n",
    "\n",
    "t=\"banana  \"\n",
    "x=t.rstrip()\n",
    "print(t,\"is a fruit\")\n",
    "print(x,\"is a fruit\")\n",
    "print(len(t))\n",
    "print(len(x))\n",
    "\n",
    "z=t.rstrip(\"a\")\n",
    "y=x.rstrip(\"a\")\n",
    "p=x.rstrip(\"an\")\n",
    "q=\"Bandana\".rstrip(\"an\")\n",
    "print(z)\n",
    "print(y)\n",
    "print(p)\n",
    "print(q)"
   ]
  },
  {
   "cell_type": "code",
   "execution_count": 58,
   "metadata": {},
   "outputs": [
    {
     "name": "stdout",
     "output_type": "stream",
     "text": [
      "  banana is a fruit\n",
      "banana is a fruit\n",
      "8\n",
      "6\n"
     ]
    }
   ],
   "source": [
    "# 2. lstrip()\n",
    "#     Removes from left end.\n",
    "\n",
    "t=\"  banana\"\n",
    "x=t.lstrip()\n",
    "print(t,\"is a fruit\")\n",
    "print(x,\"is a fruit\")\n",
    "print(len(t))\n",
    "print(len(x))"
   ]
  },
  {
   "cell_type": "code",
   "execution_count": 61,
   "metadata": {},
   "outputs": [
    {
     "name": "stdout",
     "output_type": "stream",
     "text": [
      "  banana   is a fruit\n",
      "banana is a fruit\n",
      "10\n",
      "6\n"
     ]
    }
   ],
   "source": [
    "# 3. strip()\n",
    "#     Removes from both end.\n",
    "\n",
    "t=\"  banana  \"\n",
    "x=t.strip()\n",
    "print(t,\"is a fruit\")\n",
    "print(x,\"is a fruit\")\n",
    "print(len(t))\n",
    "print(len(x))"
   ]
  },
  {
   "cell_type": "markdown",
   "metadata": {},
   "source": [
    "<h3>3. Changing the case of string"
   ]
  },
  {
   "cell_type": "code",
   "execution_count": 63,
   "metadata": {},
   "outputs": [
    {
     "name": "stdout",
     "output_type": "stream",
     "text": [
      "HELLO FRIENDS\n"
     ]
    }
   ],
   "source": [
    "# 1. upper()\n",
    "\n",
    "s=\"Hello friends\"\n",
    "x=s.upper()\n",
    "print(x)"
   ]
  },
  {
   "cell_type": "code",
   "execution_count": 65,
   "metadata": {},
   "outputs": [
    {
     "name": "stdout",
     "output_type": "stream",
     "text": [
      "hello friends\n"
     ]
    }
   ],
   "source": [
    "# 2. lower()\n",
    "\n",
    "s=\"Hello friends\"\n",
    "x=s.lower()\n",
    "print(x)"
   ]
  },
  {
   "cell_type": "code",
   "execution_count": 67,
   "metadata": {},
   "outputs": [
    {
     "name": "stdout",
     "output_type": "stream",
     "text": [
      "hELLO fRIENDS\n"
     ]
    }
   ],
   "source": [
    "# 3. swapcase()\n",
    "\n",
    "s=\"Hello Friends\"\n",
    "x=s.swapcase()\n",
    "print(x)"
   ]
  },
  {
   "cell_type": "code",
   "execution_count": 75,
   "metadata": {},
   "outputs": [
    {
     "name": "stdout",
     "output_type": "stream",
     "text": [
      "Hello How Are You?\n"
     ]
    }
   ],
   "source": [
    "# 4. title()\n",
    "\n",
    "s=\"hello how are you?\"\n",
    "x=s.title()\n",
    "print(x)"
   ]
  },
  {
   "cell_type": "code",
   "execution_count": 71,
   "metadata": {},
   "outputs": [
    {
     "name": "stdout",
     "output_type": "stream",
     "text": [
      "Hello how are you?\n"
     ]
    }
   ],
   "source": [
    "# 4. Capitalize()\n",
    "\n",
    "s=\"hello how are you?\"\n",
    "x=s.capitalize()\n",
    "print(x)"
   ]
  },
  {
   "cell_type": "markdown",
   "metadata": {},
   "source": [
    "<h3>4. To check type of characters in a string (check function) Answer only in True or False."
   ]
  },
  {
   "cell_type": "code",
   "execution_count": 82,
   "metadata": {},
   "outputs": [
    {
     "name": "stdout",
     "output_type": "stream",
     "text": [
      "True\n",
      "True\n",
      "False\n"
     ]
    }
   ],
   "source": [
    "# 1. isalnum()    (a-Z,A-Z,0-9)\n",
    "\n",
    "t=\"company123\"\n",
    "x=t.isalnum()\n",
    "print(x)\n",
    "print(\"company\".isalnum())\n",
    "print(\" company \".isalnum())"
   ]
  },
  {
   "cell_type": "code",
   "execution_count": 83,
   "metadata": {},
   "outputs": [
    {
     "name": "stdout",
     "output_type": "stream",
     "text": [
      "False\n",
      "True\n",
      "False\n"
     ]
    }
   ],
   "source": [
    "# 2. isalpha()    (a-Z,A-Z)\n",
    "\n",
    "t=\"company123\"\n",
    "x=t.isalpha()\n",
    "print(x)\n",
    "print(\"company\".isalpha())\n",
    "print(\" company \".isalpha())"
   ]
  },
  {
   "cell_type": "code",
   "execution_count": 90,
   "metadata": {},
   "outputs": [
    {
     "name": "stdout",
     "output_type": "stream",
     "text": [
      "False\n",
      "True\n",
      "True\n",
      "False\n"
     ]
    }
   ],
   "source": [
    "# 3. isdigit()    (digits,superscript,subscript)\n",
    "# or  isnumeric()  (digits,superscript,subscript,Roman,etc)\n",
    "\n",
    "t=\"company123\"\n",
    "x=t.isdigit()\n",
    "print(x)\n",
    "print(\"123\".isdigit())\n",
    "print(\"123\".isnumeric())\n",
    "print(\" 123 \".isdigit())"
   ]
  },
  {
   "cell_type": "code",
   "execution_count": 93,
   "metadata": {},
   "outputs": [
    {
     "name": "stdout",
     "output_type": "stream",
     "text": [
      "True\n",
      "False\n"
     ]
    }
   ],
   "source": [
    "# 4. islower()\n",
    "\n",
    "print(\"hello world \".islower())\n",
    "print(\"hello World\".islower())"
   ]
  },
  {
   "cell_type": "code",
   "execution_count": 96,
   "metadata": {},
   "outputs": [
    {
     "name": "stdout",
     "output_type": "stream",
     "text": [
      "True\n",
      "False\n"
     ]
    }
   ],
   "source": [
    "# 5. isupper()\n",
    "\n",
    "print(\"HELLO WOLRD \".isupper())\n",
    "print(\"hello World\".isupper())"
   ]
  },
  {
   "cell_type": "code",
   "execution_count": 103,
   "metadata": {},
   "outputs": [
    {
     "name": "stdout",
     "output_type": "stream",
     "text": [
      "False\n",
      "True\n",
      "True\n",
      "True\n"
     ]
    }
   ],
   "source": [
    "# 6. istitle()\n",
    "\n",
    "print(\"HELLO WOLRD \".istitle())\n",
    "print(\"Hello World\".istitle())\n",
    "print(\"22 Names\".istitle())\n",
    "print(\"This Is %$\".istitle())\n",
    "# it only checks first letter of the word "
   ]
  },
  {
   "cell_type": "code",
   "execution_count": 104,
   "metadata": {},
   "outputs": [
    {
     "name": "stdout",
     "output_type": "stream",
     "text": [
      "True\n",
      "True\n",
      "False\n",
      "False\n"
     ]
    }
   ],
   "source": [
    "# 7.isidentifier()\n",
    "#     Checks identifier rules\n",
    "\n",
    "print(\"MyDemo\".isidentifier())\n",
    "print(\"Demo20\".isidentifier())\n",
    "print(\"2Demo\".isidentifier())\n",
    "print(\"My Demo\".isidentifier())"
   ]
  },
  {
   "cell_type": "code",
   "execution_count": 107,
   "metadata": {},
   "outputs": [
    {
     "name": "stdout",
     "output_type": "stream",
     "text": [
      "True\n",
      "False\n"
     ]
    }
   ],
   "source": [
    "# 8. isspace()\n",
    "\n",
    "print(\" \".isspace())\n",
    "print(\" f \".isspace())"
   ]
  },
  {
   "cell_type": "code",
   "execution_count": 111,
   "metadata": {},
   "outputs": [
    {
     "name": "stdout",
     "output_type": "stream",
     "text": [
      "16\n",
      "3\n",
      "13\n",
      "5\n",
      "4\n",
      "4\n",
      "5\n"
     ]
    }
   ],
   "source": [
    "a=\"Pyt@h$%on is 124 Very Ea$sy43\"\n",
    "alpha=0\n",
    "upper=0\n",
    "lower=0\n",
    "digit=0\n",
    "space=0\n",
    "specialchar=0\n",
    "word=1\n",
    "\n",
    "for i in a:\n",
    "    if i.isalpha():\n",
    "        alpha=alpha+1\n",
    "        if i.isupper():\n",
    "            upper=upper+1\n",
    "        else:\n",
    "            lower=lower+1\n",
    "    elif i.isdigit():\n",
    "        digit=digit+1\n",
    "    elif i.isspace():\n",
    "        space=space+1\n",
    "        word=word+1\n",
    "    else:\n",
    "        specialchar=specialchar+1\n",
    "print(alpha)\n",
    "print(upper)\n",
    "print(lower)\n",
    "print(digit)\n",
    "print(space)\n",
    "print(specialchar)\n",
    "print(word)"
   ]
  },
  {
   "cell_type": "markdown",
   "metadata": {},
   "source": [
    "<h3>5. Find()"
   ]
  },
  {
   "cell_type": "code",
   "execution_count": 144,
   "metadata": {},
   "outputs": [
    {
     "name": "stdout",
     "output_type": "stream",
     "text": [
      "2\n",
      "25\n",
      "25\n",
      "-1\n",
      "9\n"
     ]
    }
   ],
   "source": [
    "# Syntax:   s.find(Substring)\n",
    "#           s.find(Substring,begin,end)\n",
    "\n",
    "s=\"Learning Python is very easy.\"\n",
    "print(s.find(\"a\"))\n",
    "print(s.find(\"a\",3))\n",
    "print(s.find(\"a\",3,50))\n",
    "# print(s.find(\"a\",,50)) invalid\n",
    "print(s.find(\"d\"))\n",
    "print(s.find(\"Python\"))\n",
    "# print(s.find(\"Python\",-1,-100))"
   ]
  },
  {
   "cell_type": "markdown",
   "metadata": {},
   "source": [
    "<h3>6. count()"
   ]
  },
  {
   "cell_type": "code",
   "execution_count": 9,
   "metadata": {},
   "outputs": [
    {
     "name": "stdout",
     "output_type": "stream",
     "text": [
      "2\n",
      "1\n",
      "0\n"
     ]
    }
   ],
   "source": [
    "s=\"Learning Python is very easy.\"\n",
    "\n",
    "print(s.count(\"a\"))\n",
    "print(s.count(\"ar\"))\n",
    "print(s.count(\"an\"))"
   ]
  },
  {
   "cell_type": "markdown",
   "metadata": {},
   "source": [
    "<h3>7. replace()"
   ]
  },
  {
   "cell_type": "code",
   "execution_count": 11,
   "metadata": {},
   "outputs": [
    {
     "name": "stdout",
     "output_type": "stream",
     "text": [
      "Learning Python is very easy.\n"
     ]
    }
   ],
   "source": [
    "#Syntax: s.replace(want to change with,want to change)\n",
    "\n",
    "print(\"Learning Java is very easy.\".replace(\"Java\",\"Python\"))"
   ]
  },
  {
   "cell_type": "markdown",
   "metadata": {},
   "source": [
    "<h3>8. Split()"
   ]
  },
  {
   "cell_type": "code",
   "execution_count": 23,
   "metadata": {},
   "outputs": [
    {
     "name": "stdout",
     "output_type": "stream",
     "text": [
      "['LJ', 'University']\n",
      "['LJ Un', 'vers', 'ty']\n",
      "['LJ University']\n",
      "['11', '11', '2024']\n",
      "['11-11-202', '']\n"
     ]
    }
   ],
   "source": [
    "#Syntax: s.split(Separator)\n",
    "\n",
    "print(\"LJ University\".split())\n",
    "print(\"LJ University\".split(\"i\"))\n",
    "print(\"LJ University\".split(\"z\"))\n",
    "print(\"11-11-2024\".split(\"-\"))\n",
    "print(\"11-11-2024\".split(\"4\"))"
   ]
  },
  {
   "cell_type": "markdown",
   "metadata": {},
   "source": [
    "<h3>9.Remove Punctuation using translate() function."
   ]
  },
  {
   "cell_type": "markdown",
   "metadata": {},
   "source": [
    "* translate() with maketrans function\n",
    "<p>\n",
    "maketrans --> Static method on str type\n",
    "    \n",
    "          --> 3 Arguments version\n",
    "    \n",
    "          --> First two equal length.\n",
    "    \n",
    "          --> Third argument has each special characters in string mapped to none</p>"
   ]
  },
  {
   "cell_type": "code",
   "execution_count": 45,
   "metadata": {},
   "outputs": [
    {
     "name": "stdout",
     "output_type": "stream",
     "text": [
      "32\n",
      "!\"#$%&'()*+,-./:;<=>?@[\\]^_`{|}~\n",
      "{97: 98, 33: None, 34: None, 35: None, 36: None, 37: None, 38: None, 39: None, 40: None, 41: None, 42: None, 43: None, 44: None, 45: None, 46: None, 47: None, 58: None, 59: None, 60: None, 61: None, 62: None, 63: None, 64: None, 91: None, 92: None, 93: None, 94: None, 95: None, 96: None, 123: None, 124: None, 125: None, 126: None}\n"
     ]
    }
   ],
   "source": [
    "import string\n",
    "print(len(string.punctuation))\n",
    "print(string.punctuation)\n",
    "print(str.maketrans('a','b',string.punctuation))"
   ]
  },
  {
   "cell_type": "code",
   "execution_count": 63,
   "metadata": {},
   "outputs": [
    {
     "name": "stdout",
     "output_type": "stream",
     "text": [
      "{33: None, 34: None, 35: None, 36: None, 37: None, 38: None, 39: None, 40: None, 41: None, 42: None, 43: None, 44: None, 45: None, 46: None, 47: None, 58: None, 59: None, 60: None, 61: None, 62: None, 63: None, 64: None, 91: None, 92: None, 93: None, 94: None, 95: None, 96: None, 123: None, 124: None, 125: None, 126: None}\n",
      "Python is Very easy\n",
      "{80: 112, 64: None, 36: None}\n",
      "python is Very easy!!\n"
     ]
    }
   ],
   "source": [
    "import string\n",
    "\n",
    "t=\"Pyt@$hon is Very$ easy!!\"\n",
    "x=str.maketrans(\"\",\"\",string.punctuation)\n",
    "print(x)\n",
    "t=t.translate(x)\n",
    "print(t)\n",
    "t=\"Pyt@$hon is Very$ easy!!\"\n",
    "y=str.maketrans(\"P\",\"p\",\"@$\")\n",
    "print(y)\n",
    "t=t.translate(y)\n",
    "print(t)"
   ]
  },
  {
   "cell_type": "code",
   "execution_count": 65,
   "metadata": {},
   "outputs": [
    {
     "name": "stdout",
     "output_type": "stream",
     "text": [
      "hi Joe\n"
     ]
    }
   ],
   "source": [
    "t=\"hi Sam\"\n",
    "x=\"mSa\"\n",
    "y=\"eJo\"\n",
    "table=t.maketrans(x,y)\n",
    "print(t.translate(table))"
   ]
  },
  {
   "cell_type": "markdown",
   "metadata": {},
   "source": [
    "<h2><u> Tuple</u></h2>"
   ]
  },
  {
   "cell_type": "markdown",
   "metadata": {},
   "source": [
    "<ul>\n",
    "    <li>Same as list except it is immutable</li>\n",
    "    <li>Ready only version of list</li>\n",
    "    <li>Data is fixed and never changes then we should go for tuple</li>\n",
    "    <li>Insertion order is preserved</li>\n",
    "    <li>Duplicates are allowed</li>\n",
    "    <li>Heterogeneous objects are allowed.</li>\n",
    "    <li>Index will play important role in tuple</li>\n",
    "    <li>Supports both +ve and -ve index</li>\n",
    "    <li>Represents with () parenthesis with comma separator</li>\n",
    "</ul>    "
   ]
  },
  {
   "cell_type": "markdown",
   "metadata": {},
   "source": [
    "<h5><b>Creation of tuple</b>"
   ]
  },
  {
   "cell_type": "code",
   "execution_count": 74,
   "metadata": {},
   "outputs": [
    {
     "name": "stdout",
     "output_type": "stream",
     "text": [
      "<class 'int'>\n",
      "<class 'tuple'>\n",
      "<class 'tuple'>\n",
      "(10, 12, 14, 16, 18)\n"
     ]
    }
   ],
   "source": [
    "t=()\n",
    "t=(10)\n",
    "print(type(t))\n",
    "t=(10,)\n",
    "print(type(t))\n",
    "t=tuple(range(10,20,2))\n",
    "print(type(t))\n",
    "print(t)"
   ]
  },
  {
   "cell_type": "markdown",
   "metadata": {},
   "source": [
    "<h5><b>Accessing elements of tuple</b>"
   ]
  },
  {
   "cell_type": "code",
   "execution_count": 77,
   "metadata": {},
   "outputs": [
    {
     "name": "stdout",
     "output_type": "stream",
     "text": [
      "30\n",
      "60\n",
      "20\n"
     ]
    }
   ],
   "source": [
    "# 1. By using Index:  \n",
    "\n",
    "t=(10,20,30,40,50,60)\n",
    "print(t[2])\n",
    "print(t[-1])\n",
    "print(t[-5])\n",
    "# print(t[10]) IndexError: tuple index out of range"
   ]
  },
  {
   "cell_type": "code",
   "execution_count": 80,
   "metadata": {},
   "outputs": [
    {
     "name": "stdout",
     "output_type": "stream",
     "text": [
      "(30, 40, 50)\n",
      "(40, 50, 60)\n",
      "(10, 30, 50)\n",
      "()\n",
      "(60, 50, 40)\n"
     ]
    }
   ],
   "source": [
    "# 2. By using Slicing Operator:  \n",
    "\n",
    "t=(10,20,30,40,50,60)\n",
    "print(t[2:5])\n",
    "print(t[3:100])\n",
    "print(t[::2])\n",
    "print(t[-1:-4:])\n",
    "print(t[-1:-4:-1])"
   ]
  },
  {
   "cell_type": "markdown",
   "metadata": {},
   "source": [
    "<h5><b>Immutability of tuple</b>"
   ]
  },
  {
   "cell_type": "code",
   "execution_count": 82,
   "metadata": {},
   "outputs": [
    {
     "ename": "TypeError",
     "evalue": "'tuple' object does not support item assignment",
     "output_type": "error",
     "traceback": [
      "\u001b[1;31m---------------------------------------------------------------------------\u001b[0m",
      "\u001b[1;31mTypeError\u001b[0m                                 Traceback (most recent call last)",
      "\u001b[1;32m<ipython-input-82-410b8b80d7f4>\u001b[0m in \u001b[0;36m<module>\u001b[1;34m\u001b[0m\n\u001b[0;32m      1\u001b[0m \u001b[0mt\u001b[0m\u001b[1;33m=\u001b[0m\u001b[1;33m(\u001b[0m\u001b[1;36m10\u001b[0m\u001b[1;33m,\u001b[0m\u001b[1;36m20\u001b[0m\u001b[1;33m,\u001b[0m\u001b[1;36m30\u001b[0m\u001b[1;33m,\u001b[0m\u001b[1;36m40\u001b[0m\u001b[1;33m)\u001b[0m\u001b[1;33m\u001b[0m\u001b[1;33m\u001b[0m\u001b[0m\n\u001b[1;32m----> 2\u001b[1;33m \u001b[0mt\u001b[0m\u001b[1;33m[\u001b[0m\u001b[1;36m2\u001b[0m\u001b[1;33m]\u001b[0m\u001b[1;33m=\u001b[0m\u001b[1;36m70\u001b[0m\u001b[1;33m\u001b[0m\u001b[1;33m\u001b[0m\u001b[0m\n\u001b[0m\u001b[0;32m      3\u001b[0m \u001b[0mprint\u001b[0m\u001b[1;33m(\u001b[0m\u001b[0mt\u001b[0m\u001b[1;33m)\u001b[0m\u001b[1;33m\u001b[0m\u001b[1;33m\u001b[0m\u001b[0m\n",
      "\u001b[1;31mTypeError\u001b[0m: 'tuple' object does not support item assignment"
     ]
    }
   ],
   "source": [
    "t=(10,20,30,40)\n",
    "t[2]=70\n",
    "print(t)"
   ]
  },
  {
   "cell_type": "markdown",
   "metadata": {},
   "source": [
    "<h5><b>Mathematical operators for tuple</b>"
   ]
  },
  {
   "cell_type": "markdown",
   "metadata": {},
   "source": [
    "+ --> Concatenation\n",
    "* --> Repitation or string multiplication"
   ]
  },
  {
   "cell_type": "code",
   "execution_count": 90,
   "metadata": {},
   "outputs": [
    {
     "name": "stdout",
     "output_type": "stream",
     "text": [
      "(10, 20, 30, 40, 50, 60)\n",
      "(10, 20, 30, 10, 20, 30)\n"
     ]
    }
   ],
   "source": [
    "#  Concatenation\n",
    "t1=(10,20,30)\n",
    "t2=(40,50,60)\n",
    "t=t1+t2\n",
    "print(t)\n",
    "\n",
    "#  Repitation or string multiplication\n",
    "t1=(10,20,30)\n",
    "t=t1*2\n",
    "print(t)"
   ]
  },
  {
   "cell_type": "markdown",
   "metadata": {},
   "source": [
    "<h2><u> Important function of Tuple.</u></h2>"
   ]
  },
  {
   "cell_type": "markdown",
   "metadata": {},
   "source": [
    "<h3>1. len()"
   ]
  },
  {
   "cell_type": "code",
   "execution_count": 92,
   "metadata": {},
   "outputs": [
    {
     "name": "stdout",
     "output_type": "stream",
     "text": [
      "3\n"
     ]
    }
   ],
   "source": [
    "t=(10,20,30)\n",
    "print(len(t))"
   ]
  },
  {
   "cell_type": "markdown",
   "metadata": {},
   "source": [
    "<h3>2. Count()"
   ]
  },
  {
   "cell_type": "code",
   "execution_count": 91,
   "metadata": {},
   "outputs": [
    {
     "name": "stdout",
     "output_type": "stream",
     "text": [
      "2\n",
      "1\n",
      "0\n"
     ]
    }
   ],
   "source": [
    "t=(10,20,30,10,20,40)\n",
    "print(t.count(10))\n",
    "print(t.count(40))\n",
    "print(t.count(50))"
   ]
  },
  {
   "cell_type": "markdown",
   "metadata": {},
   "source": [
    "<h3>3. index()"
   ]
  },
  {
   "cell_type": "code",
   "execution_count": 94,
   "metadata": {},
   "outputs": [
    {
     "name": "stdout",
     "output_type": "stream",
     "text": [
      "0\n"
     ]
    }
   ],
   "source": [
    "t=(10,20,10,10,20)\n",
    "print(t.index(10))\n",
    "# print(t.index(30)) ValueError: tuple.index(x): x not in tuple"
   ]
  },
  {
   "cell_type": "markdown",
   "metadata": {},
   "source": [
    "<h3>4. Sorted()"
   ]
  },
  {
   "cell_type": "code",
   "execution_count": 98,
   "metadata": {},
   "outputs": [
    {
     "name": "stdout",
     "output_type": "stream",
     "text": [
      "[10, 20, 30, 40]\n",
      "(10, 20, 30, 40)\n",
      "[40, 30, 20, 10]\n"
     ]
    }
   ],
   "source": [
    "t=(40,10,30,20)\n",
    "t1=sorted(t)\n",
    "print(t1) #output in list\n",
    "print(tuple(t1)) #Typecasting\n",
    "\n",
    "#Reverse order\n",
    "t1=sorted(t,reverse=True)\n",
    "print(t1)"
   ]
  },
  {
   "cell_type": "markdown",
   "metadata": {},
   "source": [
    "<h3>5. min()"
   ]
  },
  {
   "cell_type": "code",
   "execution_count": 105,
   "metadata": {},
   "outputs": [
    {
     "name": "stdout",
     "output_type": "stream",
     "text": [
      "10\n",
      "ABC\n"
     ]
    }
   ],
   "source": [
    "t=(10,30,20,60,70,40)\n",
    "print(min(t))\n",
    "\n",
    "t=(\"abc\",\"ABC\",\"def\",\"dxz\")\n",
    "print(min(t))\n",
    "\n",
    "t=(\"abc\",4,\"dxz\",100)\n",
    "# print(min(t)) TypeError: '<' not supported between instances of 'int' and 'str'"
   ]
  },
  {
   "cell_type": "markdown",
   "metadata": {},
   "source": [
    "<h3>6. max()"
   ]
  },
  {
   "cell_type": "code",
   "execution_count": 104,
   "metadata": {},
   "outputs": [
    {
     "name": "stdout",
     "output_type": "stream",
     "text": [
      "70\n",
      "dxz\n"
     ]
    }
   ],
   "source": [
    "t=(10,30,20,60,70,40)\n",
    "print(max(t))\n",
    "t=(\"abc\",\"ABC\",\"def\",\"dxz\")\n",
    "print(max(t))\n",
    "\n",
    "t=(10,50,\"def\",\"dxz\")\n",
    "# print(max(t))TypeError: '<' not supported between instances of 'int' and 'str'"
   ]
  },
  {
   "cell_type": "markdown",
   "metadata": {},
   "source": [
    "<h5><b>Tuple Packing</b>"
   ]
  },
  {
   "cell_type": "code",
   "execution_count": 107,
   "metadata": {},
   "outputs": [
    {
     "name": "stdout",
     "output_type": "stream",
     "text": [
      "(10, 20, 30, 40)\n"
     ]
    }
   ],
   "source": [
    "a=10\n",
    "b=20\n",
    "c=30\n",
    "d=40\n",
    "t=a,b,c,d\n",
    "print(t)"
   ]
  },
  {
   "cell_type": "markdown",
   "metadata": {},
   "source": [
    "<h5><b>Tuple Unpacking</b>"
   ]
  },
  {
   "cell_type": "code",
   "execution_count": 111,
   "metadata": {},
   "outputs": [
    {
     "name": "stdout",
     "output_type": "stream",
     "text": [
      "10 20 30 40\n"
     ]
    }
   ],
   "source": [
    "t=(10,20,30,40)\n",
    "a,b,c,d=t\n",
    "print(a,b,c,d)\n",
    "\n",
    "# t=(10,20,30,40)\n",
    "# a,b,c=t\n",
    "# print(a,b,c)\n",
    "# ValueError: too many values to unpack (expected 3)"
   ]
  },
  {
   "cell_type": "markdown",
   "metadata": {},
   "source": [
    "<h5><b>Loop through tuple</b>"
   ]
  },
  {
   "cell_type": "code",
   "execution_count": 2,
   "metadata": {},
   "outputs": [
    {
     "name": "stdout",
     "output_type": "stream",
     "text": [
      "apple\n",
      "banana\n",
      "Cherry\n",
      "apple\n",
      "banana\n",
      "Cherry\n",
      "apple\n",
      "banana\n",
      "Cherry\n"
     ]
    }
   ],
   "source": [
    "t=(\"apple\",\"banana\",\"Cherry\")\n",
    "for i in t:\n",
    "    print(i)\n",
    "    \n",
    "for i in range(len(t)):\n",
    "    print(t[i])\n",
    "\n",
    "i=0\n",
    "while i<len(t):\n",
    "    print(t[i])\n",
    "    i=i+1    "
   ]
  },
  {
   "cell_type": "markdown",
   "metadata": {},
   "source": [
    "<h5><b>Reverse()</b>"
   ]
  },
  {
   "cell_type": "markdown",
   "metadata": {},
   "source": [
    "* method computes reverse of given sequence object return in the form of list."
   ]
  },
  {
   "cell_type": "code",
   "execution_count": 5,
   "metadata": {},
   "outputs": [
    {
     "name": "stdout",
     "output_type": "stream",
     "text": [
      "['n', 'o', 'h', 't', 'y', 'P']\n",
      "['n', 'o', 'h', 't', 'y', 'p']\n",
      "[8, 7, 6, 5]\n",
      "[4, 3, 5, 2, 1]\n"
     ]
    }
   ],
   "source": [
    "s=\"Python\"\n",
    "print(list(reversed(s)))\n",
    "x=(\"p\",\"y\",\"t\",\"h\",\"o\",\"n\")\n",
    "print(list(reversed(x)))\n",
    "y=range(5,9)\n",
    "print(list(reversed(y)))\n",
    "z=[1,2,5,3,4]\n",
    "print(list(reversed(z)))"
   ]
  },
  {
   "cell_type": "markdown",
   "metadata": {},
   "source": [
    "<h5><b>enumerate()</b>"
   ]
  },
  {
   "cell_type": "code",
   "execution_count": 8,
   "metadata": {},
   "outputs": [
    {
     "name": "stdout",
     "output_type": "stream",
     "text": [
      "<enumerate object at 0x000002215D566EC0>\n",
      "[(0, 'eat'), (1, 'sleep'), (2, 'walk')]\n",
      "[(10, 'eat'), (11, 'sleep'), (12, 'walk')]\n"
     ]
    }
   ],
   "source": [
    "l1=(\"eat\",\"sleep\",\"walk\")\n",
    "print(enumerate(l1))\n",
    "print(list(enumerate(l1)))\n",
    "print(list(enumerate(l1,10)))"
   ]
  },
  {
   "cell_type": "code",
   "execution_count": 9,
   "metadata": {},
   "outputs": [
    {
     "name": "stdout",
     "output_type": "stream",
     "text": [
      "<enumerate object at 0x000002215D565540>\n",
      "[(0, 'e'), (1, 'a'), (2, 't')]\n",
      "[(10, 'e'), (11, 'a'), (12, 't')]\n"
     ]
    }
   ],
   "source": [
    "l1=\"eat\"\n",
    "print(list(enumerate(l1)))\n",
    "print(list(enumerate(l1,10)))"
   ]
  },
  {
   "cell_type": "code",
   "execution_count": 16,
   "metadata": {},
   "outputs": [
    {
     "name": "stdout",
     "output_type": "stream",
     "text": [
      "(0, 'H') --> ?\n",
      "(1, 'e') --> ?\n",
      "(2, 'l') --> ?\n",
      "(3, 'l') --> ?\n",
      "(4, 'o') --> ?\n",
      "(5, '?') --> ?\n",
      "0 --> H\n",
      "1 --> e\n",
      "2 --> l\n",
      "3 --> l\n",
      "4 --> o\n",
      "5 --> ?\n",
      "10 --> H\n",
      "11 --> e\n",
      "12 --> l\n",
      "13 --> l\n",
      "14 --> o\n",
      "15 --> ?\n"
     ]
    }
   ],
   "source": [
    "s=\"Hello?\"\n",
    "for a in enumerate(s):\n",
    "    print(a,\"-->\",b)\n",
    "    \n",
    "for a,b in enumerate(s):\n",
    "    print(a,\"-->\",b)\n",
    "    \n",
    "for a,b in enumerate(s,10):\n",
    "    print(a,\"-->\",b)"
   ]
  }
 ],
 "metadata": {
  "kernelspec": {
   "display_name": "Python 3",
   "language": "python",
   "name": "python3"
  },
  "language_info": {
   "codemirror_mode": {
    "name": "ipython",
    "version": 3
   },
   "file_extension": ".py",
   "mimetype": "text/x-python",
   "name": "python",
   "nbconvert_exporter": "python",
   "pygments_lexer": "ipython3",
   "version": "3.8.5"
  }
 },
 "nbformat": 4,
 "nbformat_minor": 4
}
