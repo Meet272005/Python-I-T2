{
 "cells": [
  {
   "cell_type": "code",
   "execution_count": 1,
   "metadata": {},
   "outputs": [
    {
     "name": "stdout",
     "output_type": "stream",
     "text": [
      "{'Dog': 2, 'the': 2, 'quick': 1, 'brown': 1, 'fox': 1, 'jumps': 1, 'over': 1, 'lazy': 1}\n"
     ]
    }
   ],
   "source": [
    "# WAP that reads the words from paragraph and stores them as keys in dictionary and counts the frequency of it as value\n",
    "\n",
    "s=\"Dog the quick brown fox jumps over the lazy Dog\"\n",
    "t=s.split()\n",
    "d={}\n",
    "for i in t:\n",
    "    d[i]=t.count(i)\n",
    "print(d)"
   ]
  },
  {
   "cell_type": "code",
   "execution_count": 15,
   "metadata": {},
   "outputs": [
    {
     "name": "stdout",
     "output_type": "stream",
     "text": [
      "{'D': [\"Dont't\"], 'w': ['wait'], 'f': ['for', 'feelings'], 'y': ['your'], 't': ['to', 'to', 'take'], 'c': ['change'], 'a': ['action.']}\n"
     ]
    }
   ],
   "source": [
    "# WAP to create a dictionary with the key as first character and values as list of words starting with that character.\n",
    "\n",
    "s=\"Dont't wait for your feelings to change to take action.\"\n",
    "words=s.split()\n",
    "# words.sort()\n",
    "d={}\n",
    "# print(t)\n",
    "\n",
    "for word in words:\n",
    "    key=word[0]\n",
    "    if key in d: #here d==d.keys()\n",
    "        d[key].append(word)\n",
    "    else:\n",
    "        d[key]=[word]\n",
    "print(d)"
   ]
  },
  {
   "cell_type": "code",
   "execution_count": 16,
   "metadata": {},
   "outputs": [
    {
     "name": "stdout",
     "output_type": "stream",
     "text": [
      "Enter x: [1,2,3,4,6,7,8] \n",
      "Enter y: [1,5,3,6,4,7,3]\n",
      "[1, 3, 4, 6]\n"
     ]
    }
   ],
   "source": [
    "# WAP to find the index at which the elements of two list dose not match.\n",
    "\n",
    "x=eval(input(\"Enter x: \"))\n",
    "y=eval(input(\"Enter y: \"))\n",
    "l=[]\n",
    "\n",
    "if len(x)==len(y):\n",
    "    for i in range(len(x)):\n",
    "        if x[i]!=y[i]:\n",
    "            l.append(i)\n",
    "print(l)"
   ]
  },
  {
   "cell_type": "code",
   "execution_count": 17,
   "metadata": {},
   "outputs": [
    {
     "name": "stdout",
     "output_type": "stream",
     "text": [
      "CampusX is the best channel for Data Science Students\n"
     ]
    }
   ],
   "source": [
    "# WAP to replace words from dictionary given a string replace its words from look up dictionary.\n",
    "s=\"CampusX is best for DS Students\"\n",
    "d={\"best\":\"the best channel\" , \"DS\":\"Data Science\" }\n",
    "l=s.split()\n",
    "\n",
    "for i in l:\n",
    "        if i in d:\n",
    "            s=s.replace(i,d.get(i))\n",
    "print(s)"
   ]
  },
  {
   "cell_type": "code",
   "execution_count": null,
   "metadata": {},
   "outputs": [],
   "source": []
  }
 ],
 "metadata": {
  "kernelspec": {
   "display_name": "Python 3",
   "language": "python",
   "name": "python3"
  },
  "language_info": {
   "codemirror_mode": {
    "name": "ipython",
    "version": 3
   },
   "file_extension": ".py",
   "mimetype": "text/x-python",
   "name": "python",
   "nbconvert_exporter": "python",
   "pygments_lexer": "ipython3",
   "version": "3.8.5"
  }
 },
 "nbformat": 4,
 "nbformat_minor": 4
}
