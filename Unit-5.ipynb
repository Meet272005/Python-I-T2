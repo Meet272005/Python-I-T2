{
 "cells": [
  {
   "cell_type": "markdown",
   "metadata": {},
   "source": [
    "# Unit-5️⃣ Mutable data structure"
   ]
  },
  {
   "cell_type": "markdown",
   "metadata": {},
   "source": [
    "### list"
   ]
  },
  {
   "cell_type": "markdown",
   "metadata": {},
   "source": [
    "* List is dynamic because based on our requirement we can increase or decrease the size\n",
    "* square brackets with comma separation"
   ]
  },
  {
   "cell_type": "markdown",
   "metadata": {},
   "source": [
    "### Creation of list"
   ]
  },
  {
   "cell_type": "markdown",
   "metadata": {},
   "source": [
    "* l=[]\n",
    "* l=[1,2,3,4]\n",
    "* l=eval(input(\"Enter list: \"))"
   ]
  },
  {
   "cell_type": "code",
   "execution_count": 5,
   "metadata": {},
   "outputs": [
    {
     "name": "stdout",
     "output_type": "stream",
     "text": [
      "Enter list: 1,2,3,4,5\n",
      "(1, 2, 3, 4, 5)\n",
      "Enter tuple: [1,2,3,4,5]\n",
      "[1, 2, 3, 4, 5]\n",
      "Enter set: {1,2,3,4,5}\n",
      "{1, 2, 3, 4, 5}\n"
     ]
    }
   ],
   "source": [
    "l=eval(input(\"Enter list: \"))\n",
    "print(l)\n",
    "\n",
    "l=eval(input(\"Enter tuple: \"))\n",
    "print(l)\n",
    "\n",
    "l=eval(input(\"Enter set: \"))\n",
    "print(l)"
   ]
  },
  {
   "cell_type": "markdown",
   "metadata": {},
   "source": [
    "<h2><u> Important function of List.</u></h2>"
   ]
  },
  {
   "cell_type": "markdown",
   "metadata": {},
   "source": [
    "<h3>1. len()"
   ]
  },
  {
   "cell_type": "code",
   "execution_count": 6,
   "metadata": {},
   "outputs": [
    {
     "name": "stdout",
     "output_type": "stream",
     "text": [
      "4\n"
     ]
    }
   ],
   "source": [
    "n=[1,2,3,4]\n",
    "print(len(n))"
   ]
  },
  {
   "cell_type": "markdown",
   "metadata": {},
   "source": [
    "<h3>2. count()"
   ]
  },
  {
   "cell_type": "markdown",
   "metadata": {},
   "source": [
    "n=[1,2,2,3,3,3]\n",
    "print(n.count(2))\n",
    "print(n.count(4))"
   ]
  },
  {
   "cell_type": "markdown",
   "metadata": {},
   "source": [
    "<h3>3. index()"
   ]
  },
  {
   "cell_type": "code",
   "execution_count": 10,
   "metadata": {},
   "outputs": [
    {
     "name": "stdout",
     "output_type": "stream",
     "text": [
      "0\n",
      "3\n"
     ]
    }
   ],
   "source": [
    "n=[1,2,2,3,3,3]\n",
    "print(n.index(1))\n",
    "print(n.index(3))\n",
    "# print(n.index(5)) ValueError: 5 is not in list"
   ]
  },
  {
   "cell_type": "markdown",
   "metadata": {},
   "source": [
    "<h3>4. append()"
   ]
  },
  {
   "cell_type": "code",
   "execution_count": 13,
   "metadata": {},
   "outputs": [
    {
     "name": "stdout",
     "output_type": "stream",
     "text": [
      "['M', 'N', 'A', 'B', 'C']\n"
     ]
    }
   ],
   "source": [
    "l=[\"M\",\"N\"]\n",
    "l.append(\"A\")\n",
    "l.append(\"B\")\n",
    "l.append(\"C\")\n",
    "print(l)"
   ]
  },
  {
   "cell_type": "markdown",
   "metadata": {},
   "source": [
    "<h3>5. insert()"
   ]
  },
  {
   "cell_type": "code",
   "execution_count": 26,
   "metadata": {},
   "outputs": [
    {
     "name": "stdout",
     "output_type": "stream",
     "text": [
      "[1, 28, 2, 3, 4, 5, 25, 5]\n",
      "['A', 'M', 'N', 'C', 'B']\n"
     ]
    }
   ],
   "source": [
    "l=[1,2,3,4,5]\n",
    "l.insert(1,28)\n",
    "l.insert(10,5) # value >len(l) then it will work as append\n",
    "l.insert(-1,25) #-1 will append at second last index\n",
    "print(l)\n",
    "\n",
    "l=[\"M\",\"N\"]\n",
    "l.insert(0,\"A\")\n",
    "l.insert(15,\"B\")\n",
    "l.insert(-1,\"C\") #-1 will append at second last index\n",
    "print(l)"
   ]
  },
  {
   "cell_type": "markdown",
   "metadata": {},
   "source": [
    "<h3>6. extend()"
   ]
  },
  {
   "cell_type": "code",
   "execution_count": 29,
   "metadata": {},
   "outputs": [
    {
     "name": "stdout",
     "output_type": "stream",
     "text": [
      "['Apple', 'Mango', 'Orange', 'watermelon']\n",
      "['Orange', 'watermelon', 'Apple', 'Mango', 'Orange', 'watermelon']\n"
     ]
    }
   ],
   "source": [
    "l1=[\"Apple\",\"Mango\"]\n",
    "l2=[\"Orange\",\"watermelon\"]\n",
    "\n",
    "l1.extend(l2)\n",
    "l2.extend(l1)\n",
    "print(l1)\n",
    "print(l2)"
   ]
  },
  {
   "cell_type": "markdown",
   "metadata": {},
   "source": [
    "<h3>7. remove()"
   ]
  },
  {
   "cell_type": "code",
   "execution_count": 32,
   "metadata": {},
   "outputs": [
    {
     "name": "stdout",
     "output_type": "stream",
     "text": [
      "[2, 1, 3, 1, 1]\n"
     ]
    }
   ],
   "source": [
    "n=[1,2,1,3,1,1]\n",
    "n.remove(1)\n",
    "print(n)\n",
    "\n",
    "# n.remove(4)\n",
    "# print(n) ValueError: list.remove(x): x not in list"
   ]
  },
  {
   "cell_type": "markdown",
   "metadata": {},
   "source": [
    "<h3>8. pop()"
   ]
  },
  {
   "cell_type": "code",
   "execution_count": 6,
   "metadata": {},
   "outputs": [
    {
     "name": "stdout",
     "output_type": "stream",
     "text": [
      "50\n",
      "40\n",
      "[10, 20, 30]\n",
      "50\n",
      "20\n",
      "[10, 30, 40]\n"
     ]
    }
   ],
   "source": [
    "n=[10,20,30,40,50]\n",
    "print(n.pop())\n",
    "print(n.pop())\n",
    "print(n)\n",
    "\n",
    "y=[]\n",
    "# print(y.pop())IndexError: pop from empty list\n",
    "\n",
    "n=[10,20,30,40,50]\n",
    "print(n.pop())\n",
    "print(n.pop(1))\n",
    "print(n)\n",
    "# print(n.pop(10)) IndexError: pop index out of range"
   ]
  },
  {
   "cell_type": "markdown",
   "metadata": {},
   "source": [
    "<h3>9. clear()"
   ]
  },
  {
   "cell_type": "code",
   "execution_count": 8,
   "metadata": {},
   "outputs": [
    {
     "name": "stdout",
     "output_type": "stream",
     "text": [
      "[]\n"
     ]
    }
   ],
   "source": [
    "n=[10,20,30,40,50]\n",
    "n.clear()\n",
    "print(n)"
   ]
  },
  {
   "cell_type": "markdown",
   "metadata": {},
   "source": [
    "<h3>10. sort()"
   ]
  },
  {
   "cell_type": "code",
   "execution_count": 17,
   "metadata": {},
   "outputs": [
    {
     "name": "stdout",
     "output_type": "stream",
     "text": [
      "[0, 1, 2, 5, 15]\n",
      "['A', 'B', 'C', 'D']\n"
     ]
    }
   ],
   "source": [
    "n=[2,5,1,15,0]\n",
    "n.sort()\n",
    "print(n)\n",
    "\n",
    "n=[\"D\",\"A\",\"B\",\"C\"]\n",
    "n.sort()\n",
    "print(n)\n",
    "\n",
    "# n=[12,20,50,\"D\",\"A\",\"B\",\"C\"] TypeError: '<' not supported between instances of 'int' and 'str'\n",
    "# n.sort()\n",
    "# print(n)"
   ]
  },
  {
   "cell_type": "markdown",
   "metadata": {},
   "source": [
    "<h3>11. reverse()"
   ]
  },
  {
   "cell_type": "code",
   "execution_count": 13,
   "metadata": {},
   "outputs": [
    {
     "name": "stdout",
     "output_type": "stream",
     "text": [
      "[0, 1, 2, 5, 15]\n",
      "[15, 5, 2, 1, 0]\n",
      "['A', 'B', 'C', 'D']\n",
      "['D', 'C', 'B', 'A']\n"
     ]
    }
   ],
   "source": [
    "n=[2,5,1,15,0]\n",
    "n.sort()\n",
    "print(n)\n",
    "n.sort(reverse=True)\n",
    "print(n)\n",
    "\n",
    "n=[\"D\",\"A\",\"B\",\"C\"]\n",
    "n.sort()\n",
    "print(n)\n",
    "n.sort(reverse=True)\n",
    "print(n)\n",
    "\n",
    "# n=[12,20,50,\"D\",\"A\",\"B\",\"C\"] TypeError: '<' not supported between instances of 'int' and 'str'\n",
    "# n.sort(reverse=True)\n",
    "# print(n)"
   ]
  },
  {
   "cell_type": "markdown",
   "metadata": {},
   "source": [
    "<h2><u> Mathematical Operations for List.</u></h2>"
   ]
  },
  {
   "cell_type": "code",
   "execution_count": 20,
   "metadata": {},
   "outputs": [
    {
     "name": "stdout",
     "output_type": "stream",
     "text": [
      "[1, 2, 3, 4, 5, 6]\n",
      "[1, 2, 3, 4]\n",
      "[1, 2, 3, 1, 2, 3, 1, 2, 3]\n"
     ]
    }
   ],
   "source": [
    "a=[1,2,3]\n",
    "b=[4,5,6]\n",
    "print(a+b)\n",
    "print(a+[4])\n",
    "# print(a+4) TypeError: can only concatenate list (not \"int\") to list\n",
    "print(a*3)"
   ]
  },
  {
   "cell_type": "markdown",
   "metadata": {},
   "source": [
    "<h2><u> Comparison Operators for List.</u></h2>"
   ]
  },
  {
   "cell_type": "code",
   "execution_count": 25,
   "metadata": {},
   "outputs": [
    {
     "name": "stdout",
     "output_type": "stream",
     "text": [
      "True\n",
      "False\n",
      "True \n",
      "\n",
      "False\n",
      "False\n",
      "True\n",
      "True \n",
      "\n",
      "False\n",
      "False\n",
      "True\n",
      "True\n"
     ]
    }
   ],
   "source": [
    "x=[\"Dog\",\"Cat\",\"Rat\"]\n",
    "y=[\"Dog\",\"Cat\",\"Rat\"]\n",
    "z=[\"DOG\",\"CAT\",\"RAT\"]\n",
    "print(x==y)\n",
    "print(x==z)\n",
    "print(x!=z,\"\\n\")\n",
    "\n",
    "x=[\"Dog\",\"Cat\",\"Rat\"]\n",
    "y=[\"Rat\",\"Cat\",\"Dog\"]\n",
    "print(x>y)\n",
    "print(x>=y)\n",
    "print(x<y)\n",
    "print(x<=y,\"\\n\")\n",
    "\n",
    "x=[50,20,30]\n",
    "y=[50,20,30,100,200]\n",
    "print(x>y)\n",
    "print(x>=y)\n",
    "print(x<y)\n",
    "print(x<=y)"
   ]
  },
  {
   "cell_type": "markdown",
   "metadata": {},
   "source": [
    "<h2><u> Membership Operators for List.</u></h2>"
   ]
  },
  {
   "cell_type": "markdown",
   "metadata": {},
   "source": [
    "* in\n",
    "*not in"
   ]
  },
  {
   "cell_type": "code",
   "execution_count": 28,
   "metadata": {},
   "outputs": [
    {
     "name": "stdout",
     "output_type": "stream",
     "text": [
      "True\n",
      "False\n",
      "False\n"
     ]
    }
   ],
   "source": [
    "n=[10,20,30,40]\n",
    "print(10 in n)\n",
    "print(40 not in n)\n",
    "print(50 in n)"
   ]
  },
  {
   "cell_type": "code",
   "execution_count": 34,
   "metadata": {},
   "outputs": [
    {
     "name": "stdout",
     "output_type": "stream",
     "text": [
      "[10, 20, 100, 40, 50]\n",
      "[10, 20, 30, 40, 50]\n"
     ]
    }
   ],
   "source": [
    "l1=[10,20,30,40,50]\n",
    "X=l1\n",
    "X[2]=100\n",
    "print(l)\n",
    "\n",
    "l2=[10,20,30,40,50]\n",
    "Y=l2[:] #or l2.copy()\n",
    "Y[2]=100\n",
    "print(l2)"
   ]
  },
  {
   "cell_type": "markdown",
   "metadata": {},
   "source": [
    "<h2><u> Nested List.</u></h2>"
   ]
  },
  {
   "cell_type": "code",
   "execution_count": 37,
   "metadata": {},
   "outputs": [
    {
     "name": "stdout",
     "output_type": "stream",
     "text": [
      "10\n",
      "[40, 20]\n",
      "40\n",
      "80\n",
      "200\n"
     ]
    }
   ],
   "source": [
    "n=[10,20,30,[40,20],[60,70,80,[100,200]]]\n",
    "print(n[0])\n",
    "print(n[3])\n",
    "print(n[3][0])\n",
    "print(n[4][2])\n",
    "print(n[4][3][1])"
   ]
  },
  {
   "cell_type": "markdown",
   "metadata": {},
   "source": [
    "<h2><u> Nested List as Matrix.</u></h2>"
   ]
  },
  {
   "cell_type": "code",
   "execution_count": 46,
   "metadata": {},
   "outputs": [
    {
     "name": "stdout",
     "output_type": "stream",
     "text": [
      "10 20 30 \n",
      "40 50 60 \n",
      "70 80 90 \n"
     ]
    }
   ],
   "source": [
    "n=[[10,20,30],[40,50,60],[70,80,90]]\n",
    "\n",
    "for i in n:\n",
    "    for j in i:\n",
    "        print(j,end=\" \")\n",
    "    print()"
   ]
  },
  {
   "cell_type": "code",
   "execution_count": 67,
   "metadata": {},
   "outputs": [
    {
     "name": "stdout",
     "output_type": "stream",
     "text": [
      "3X3 Matrix\n",
      "\n",
      "1 4 7 \n",
      "2 5 8 \n",
      "3 6 9 \n",
      "\n",
      "3X4 Matrix\n",
      "\n",
      "1 4 7 10 \n",
      "2 5 8 11 \n",
      "3 6 9 12 \n"
     ]
    }
   ],
   "source": [
    "# Original to Transpose\n",
    "\n",
    "print(\"3X3 Matrix\\n\")    \n",
    "n=[[1,2,3],[4,5,6],[7,8,9]]\n",
    "for i in range(len(n)):\n",
    "    for j in range(len(n[i])):\n",
    "            print(n[j][i],end=\" \")\n",
    "    print()\n",
    "    \n",
    "print(\"\\n3X4 Matrix\\n\")    \n",
    "n=[[1,2,3],[4,5,6],[7,8,9],[10,11,12]]\n",
    "for i in range(len(n[0])):\n",
    "    for j in n:\n",
    "        print(j[i],end=\" \")\n",
    "    print()\n",
    "   "
   ]
  },
  {
   "cell_type": "markdown",
   "metadata": {},
   "source": [
    "<h2><u> List Comphrehension.</u></h2>"
   ]
  },
  {
   "cell_type": "code",
   "execution_count": 60,
   "metadata": {},
   "outputs": [
    {
     "name": "stdout",
     "output_type": "stream",
     "text": [
      "[1, 4, 9, 16, 25, 36, 49, 64, 81, 100]\n",
      "[2, 4, 8, 16, 32]\n",
      "[1, 9, 25, 49, 81]\n"
     ]
    }
   ],
   "source": [
    "# Syntax : l=[Expression for item in list if condition]\n",
    "s=[x*x for x in range(1,11)]\n",
    "print(s)\n",
    "\n",
    "v=[2**x for x in range(1,6)]\n",
    "print(v)\n",
    "\n",
    "m=[x for x in s if x%2==1]\n",
    "print(m)"
   ]
  },
  {
   "cell_type": "markdown",
   "metadata": {},
   "source": [
    "<h2><u>TASK</u></h2>"
   ]
  },
  {
   "cell_type": "markdown",
   "metadata": {},
   "source": [
    "WAP to Print Elements with frequency greater than a given value K. "
   ]
  },
  {
   "cell_type": "code",
   "execution_count": 76,
   "metadata": {},
   "outputs": [
    {
     "name": "stdout",
     "output_type": "stream",
     "text": [
      "Enter List: [1,1,1,1,2,2,2,2,3,3,5,5,5,5,6,7]\n",
      "Enter k: 2\n",
      "[1, 2, 5]\n"
     ]
    }
   ],
   "source": [
    "l=eval(input(\"Enter List: \"))\n",
    "k=int(input(\"Enter k: \"))\n",
    "ans=[]\n",
    "\n",
    "for i in l:\n",
    "    count=l.count(i)\n",
    "    if count>k and i not in ans:\n",
    "        ans.append(i)\n",
    "        \n",
    "print(ans)"
   ]
  },
  {
   "cell_type": "markdown",
   "metadata": {},
   "source": [
    "<h2><u>Dictionary</u></h2>"
   ]
  },
  {
   "cell_type": "markdown",
   "metadata": {},
   "source": [
    "* Represent a group of object as key-value pairs.\n",
    "* Duplicate not allowed but values can be duplicated.\n",
    "* Heterogeneous objects are allowed for both key & value.\n",
    "* Insertion order is not preserved.\n",
    "* Mutable\n",
    "* Index and slicing concepts are not applicable. "
   ]
  },
  {
   "cell_type": "code",
   "execution_count": 100,
   "metadata": {},
   "outputs": [
    {
     "name": "stdout",
     "output_type": "stream",
     "text": [
      "<class 'dict'>\n",
      "<class 'set'>\n",
      "{10: 'Arman', 20: 'Aryan', 30: 'Lucky'}\n",
      "{10: 'Gopu', 20: 'Madhav', 30: 'Lucky'}\n",
      "{10: 'Gopal', 20: 'Madhav', 30: 'Lucky', 40: 'Laxman', 50: 'Vasuli bhai'}\n",
      "{10: 'Gopal', 20: 'Madhav', 30: 'Lucky', 40: 'Laxman'}\n"
     ]
    }
   ],
   "source": [
    "d={}\n",
    "print(type(d))\n",
    "s=set()\n",
    "print(type(s))\n",
    "\n",
    "d[10]=\"Arman\"\n",
    "d[20]=\"Aryan\"\n",
    "d[30]=\"Lucky\"\n",
    "print(d)\n",
    "\n",
    "d2=dict([(10,\"Gopu\"),(20,\"Madhav\"),(30,\"Lucky\")])\n",
    "print(d2)\n",
    "d2[40]=\"Laxman\"\n",
    "d2[10]=\"Gopal\"\n",
    "d2[50]=\"Vasuli bhai\"\n",
    "print(d2)\n",
    "del d2[50]\n",
    "print(d2)\n",
    "d2.clear()\n",
    "# del d2\n",
    "# print(d2)"
   ]
  },
  {
   "cell_type": "markdown",
   "metadata": {},
   "source": [
    "<h2><u>Dictionary Comphrehension. </u></h2>"
   ]
  },
  {
   "cell_type": "code",
   "execution_count": 104,
   "metadata": {},
   "outputs": [
    {
     "name": "stdout",
     "output_type": "stream",
     "text": [
      "{1: 1, 2: 4, 3: 9, 4: 16, 5: 25}\n",
      "{1: 1, 2: 4, 3: 9, 4: 16, 5: 25}\n"
     ]
    }
   ],
   "source": [
    "square={x:x*x for x in range(1,6)}\n",
    "print(square)\n",
    "x=square.copy()\n",
    "print(x)"
   ]
  },
  {
   "cell_type": "markdown",
   "metadata": {},
   "source": [
    "<h2><u> Important function of Dictionary.</u></h2>"
   ]
  },
  {
   "cell_type": "markdown",
   "metadata": {},
   "source": [
    "<ol>\n",
    "    <li> dict() </li>\n",
    "    <li> len() </li>\n",
    "    <li> clear() </li>\n",
    "    <li> copy() </li>\n",
    "    <li> update() </li>\n",
    "    <li> get() </li>\n",
    "    <li> popitem() </li>\n",
    "    <li> keys() </li>\n",
    "    <li> values() </li>\n",
    "    <li> items() </li>\n",
    "    <li> setdefault() </li>\n",
    "    </ol>"
   ]
  },
  {
   "cell_type": "code",
   "execution_count": 107,
   "metadata": {},
   "outputs": [
    {
     "name": "stdout",
     "output_type": "stream",
     "text": [
      "{10: 20, 30: 40, 50: 60}\n",
      "{10: 100, 30: 600, 50: 60, 200: 40}\n"
     ]
    }
   ],
   "source": [
    "# UPDATE\n",
    "\n",
    "d={10:20,30:40,50:60}\n",
    "print(d)\n",
    "x={10:100,200:40,30:600}\n",
    "d.update(x)\n",
    "print(d)"
   ]
  },
  {
   "cell_type": "code",
   "execution_count": 111,
   "metadata": {},
   "outputs": [
    {
     "name": "stdout",
     "output_type": "stream",
     "text": [
      "{10: 'Arman', 20: 'Aryan', 30: 'Lucky'}\n",
      "Arman\n",
      "Arman\n",
      "None\n",
      "Arman\n",
      "Guest\n"
     ]
    }
   ],
   "source": [
    "# GET\n",
    "\n",
    "d={10:\"Arman\",20:\"Aryan\",30:\"Lucky\"}\n",
    "print(d)\n",
    "print(d[10])\n",
    "print(d.get(10))\n",
    "print(d.get(40))\n",
    "print(d.get(10,\"Guest\"))\n",
    "print(d.get(40,\"Guest\"))"
   ]
  },
  {
   "cell_type": "code",
   "execution_count": 115,
   "metadata": {},
   "outputs": [
    {
     "name": "stdout",
     "output_type": "stream",
     "text": [
      "{10: 'Arman', 20: 'Aryan', 30: 'Lucky'}\n",
      "(30, 'Lucky')\n",
      "{10: 'Arman', 20: 'Aryan'}\n"
     ]
    }
   ],
   "source": [
    "# POPITEM\n",
    "\n",
    "d={10:\"Arman\",20:\"Aryan\",30:\"Lucky\"}\n",
    "print(d)\n",
    "print(d.popitem()) #In form of Tupple\n",
    "print(d) #Key Error if d is empty"
   ]
  },
  {
   "cell_type": "code",
   "execution_count": 119,
   "metadata": {},
   "outputs": [
    {
     "name": "stdout",
     "output_type": "stream",
     "text": [
      "dict_keys([10, 20, 30])\n",
      "dict_values(['Arman', 'Aryan', 'Lucky'])\n",
      "dict_items([(10, 'Arman'), (20, 'Aryan'), (30, 'Lucky')])\n",
      "10 --> Arman\n",
      "20 --> Aryan\n",
      "30 --> Lucky\n"
     ]
    }
   ],
   "source": [
    "#  KeYS ,VALUES ,ITEMS\n",
    "\n",
    "d={10:\"Arman\",20:\"Aryan\",30:\"Lucky\"}\n",
    "print(d.keys())\n",
    "print(d.values())\n",
    "print(d.items())\n",
    "\n",
    "for k,v in d.items():\n",
    "    print(k,\"-->\",v)"
   ]
  },
  {
   "cell_type": "code",
   "execution_count": 121,
   "metadata": {},
   "outputs": [
    {
     "name": "stdout",
     "output_type": "stream",
     "text": [
      "Pavan\n",
      "{10: 'Arman', 20: 'Aryan', 30: 'Lucky', 40: 'Pavan'}\n",
      "Arman\n",
      "{10: 'Arman', 20: 'Aryan', 30: 'Lucky', 40: 'Pavan'}\n"
     ]
    }
   ],
   "source": [
    "d={10:\"Arman\",20:\"Aryan\",30:\"Lucky\"}\n",
    "print(d.setdefault(40,\"Pavan\"))\n",
    "print(d)\n",
    "print(d.setdefault(10,\"Sachin\"))\n",
    "print(d)"
   ]
  },
  {
   "cell_type": "code",
   "execution_count": 124,
   "metadata": {},
   "outputs": [
    {
     "name": "stdout",
     "output_type": "stream",
     "text": [
      "{'Dog': 2, 'the': 2, 'quick': 1, 'brown': 1, 'fox': 1, 'jumps': 1, 'over': 1, 'lazy': 1}\n"
     ]
    }
   ],
   "source": [
    "# WAP that reads the words from paragraph and stores them as keys in dictionary and counts the frequency of it as value\n",
    "\n",
    "s=\"Dog the quick brown fox jumps over the lazy Dog\"\n",
    "t=s.split()\n",
    "d={}\n",
    "for i in t:\n",
    "    d[i]=t.count(i)\n",
    "print(d)"
   ]
  },
  {
   "cell_type": "code",
   "execution_count": null,
   "metadata": {},
   "outputs": [],
   "source": []
  }
 ],
 "metadata": {
  "kernelspec": {
   "display_name": "Python 3",
   "language": "python",
   "name": "python3"
  },
  "language_info": {
   "codemirror_mode": {
    "name": "ipython",
    "version": 3
   },
   "file_extension": ".py",
   "mimetype": "text/x-python",
   "name": "python",
   "nbconvert_exporter": "python",
   "pygments_lexer": "ipython3",
   "version": "3.8.5"
  }
 },
 "nbformat": 4,
 "nbformat_minor": 4
}
